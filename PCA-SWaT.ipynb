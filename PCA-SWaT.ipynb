{
 "cells": [
  {
   "cell_type": "markdown",
   "metadata": {
    "id": "etniX_KTlJ5U"
   },
   "source": [
    "# USAD"
   ]
  },
  {
   "cell_type": "markdown",
   "metadata": {
    "id": "N3jM0qLU8MgZ"
   },
   "source": [
    "## Environment"
   ]
  },
  {
   "cell_type": "code",
   "execution_count": 1,
   "metadata": {
    "id": "rjheCL2b1Rnw"
   },
   "outputs": [
    {
     "name": "stdout",
     "output_type": "stream",
     "text": [
      "rm: cannot remove 'sample_data': No such file or directory\r\n"
     ]
    }
   ],
   "source": [
    "!rm -r sample_data"
   ]
  },
  {
   "cell_type": "code",
   "execution_count": 2,
   "metadata": {
    "colab": {
     "base_uri": "https://localhost:8080/",
     "height": 118
    },
    "id": "e3dDxs8LFZdT",
    "outputId": "ebff804d-1c59-4039-d869-f65907b19712"
   },
   "outputs": [],
   "source": [
    "# !git clone https://github.com/manigalati/usad"
   ]
  },
  {
   "cell_type": "code",
   "execution_count": 2,
   "metadata": {
    "id": "6u1DGKsAlLF-"
   },
   "outputs": [],
   "source": [
    "import numpy as np\n",
    "import pandas as pd\n",
    "import matplotlib.pyplot as plt\n",
    "import seaborn as sns\n",
    "import torch\n",
    "import torch.nn as nn\n",
    "\n",
    "from utils import *\n",
    "from usad import *"
   ]
  },
  {
   "cell_type": "code",
   "execution_count": 4,
   "metadata": {
    "colab": {
     "base_uri": "https://localhost:8080/",
     "height": 34
    },
    "id": "4AzWlDBI_djV",
    "outputId": "7a8d0c19-2389-461b-c0be-3427a25dda91"
   },
   "outputs": [
    {
     "name": "stdout",
     "output_type": "stream",
     "text": [
      "GPU 0: NVIDIA RTX A6000 (UUID: GPU-4fe1f960-ffc5-eb69-03c5-6f101fe9f547)\r\n"
     ]
    },
    {
     "data": {
      "text/plain": [
       "device(type='cpu')"
      ]
     },
     "execution_count": 4,
     "metadata": {},
     "output_type": "execute_result"
    }
   ],
   "source": [
    "!nvidia-smi -L\n",
    "\n",
    "device = get_default_device()\n",
    "device"
   ]
  },
  {
   "cell_type": "markdown",
   "metadata": {
    "id": "1crx5rGP9ONf"
   },
   "source": [
    "## EDA - Data Pre-Processing"
   ]
  },
  {
   "cell_type": "code",
   "execution_count": 5,
   "metadata": {},
   "outputs": [],
   "source": [
    "down_rate=5"
   ]
  },
  {
   "cell_type": "markdown",
   "metadata": {
    "id": "vxofeE469RhT"
   },
   "source": [
    "### Download dataset"
   ]
  },
  {
   "cell_type": "code",
   "execution_count": 6,
   "metadata": {
    "colab": {
     "base_uri": "https://localhost:8080/",
     "height": 84
    },
    "id": "i95DlAZI1G_p",
    "outputId": "5b35771c-356e-4e0b-a997-682d1ea85c6a",
    "scrolled": false
   },
   "outputs": [
    {
     "name": "stdout",
     "output_type": "stream",
     "text": [
      "mkdir: cannot create directory ‘input’: File exists\n",
      "input/SWaT_Dataset_Normal_v1.csv [Exists]\n",
      "input/SWaT_Dataset_Attack_v0.csv [Exists]\n"
     ]
    }
   ],
   "source": [
    "!mkdir input\n",
    "#normal period\n",
    "!python gdrivedl.py https://drive.google.com/open?id=1rVJ5ry5GG-ZZi5yI4x9lICB8VhErXwCw input/\n",
    "#anomalies\n",
    "!python gdrivedl.py https://drive.google.com/open?id=1iDYc0OEmidN712fquOBRFjln90SbpaE7 input/"
   ]
  },
  {
   "cell_type": "markdown",
   "metadata": {
    "id": "kfSj4FYL9W8Y"
   },
   "source": [
    "### Normal period"
   ]
  },
  {
   "cell_type": "code",
   "execution_count": 7,
   "metadata": {
    "colab": {
     "base_uri": "https://localhost:8080/",
     "height": 87
    },
    "id": "XeDLxV_r1G9n",
    "outputId": "576538dd-64f2-46fa-8e6f-6c2ffdebad15"
   },
   "outputs": [
    {
     "name": "stderr",
     "output_type": "stream",
     "text": [
      "/home/suraj/anaconda3/lib/python3.7/site-packages/IPython/core/interactiveshell.py:3457: DtypeWarning: Columns (26) have mixed types.Specify dtype option on import or set low_memory=False.\n",
      "  exec(code_obj, self.user_global_ns, self.user_ns)\n"
     ]
    },
    {
     "data": {
      "text/plain": [
       "(495000, 51)"
      ]
     },
     "execution_count": 7,
     "metadata": {},
     "output_type": "execute_result"
    }
   ],
   "source": [
    "#Read data\n",
    "normal = pd.read_csv(\"input/SWaT_Dataset_Normal_v1.csv\")#, nrows=1000)\n",
    "normal = normal.drop([\"Timestamp\" , \"Normal/Attack\" ] , axis = 1)\n",
    "\n",
    "normal.shape"
   ]
  },
  {
   "cell_type": "code",
   "execution_count": 8,
   "metadata": {},
   "outputs": [],
   "source": [
    "# Transform all columns into float64\n",
    "for i in list(normal): \n",
    "    normal[i]=normal[i].apply(lambda x: str(x).replace(\",\" , \".\"))\n",
    "normal = normal.astype(float)"
   ]
  },
  {
   "cell_type": "code",
   "execution_count": null,
   "metadata": {},
   "outputs": [],
   "source": [
    "#Downsampling\n",
    "normal=normal.groupby(np.arange(len(normal.index)) // 5).mean()"
   ]
  },
  {
   "cell_type": "markdown",
   "metadata": {
    "id": "zxFNH5kU9hIE"
   },
   "source": [
    "#### Normalization"
   ]
  },
  {
   "cell_type": "code",
   "execution_count": 9,
   "metadata": {
    "id": "Mfxj4Uxn9kv4"
   },
   "outputs": [],
   "source": [
    "from sklearn import preprocessing\n",
    "min_max_scaler = preprocessing.MinMaxScaler()\n",
    "x = normal.values\n",
    "x_scaled = min_max_scaler.fit_transform(x)\n",
    "normal = pd.DataFrame(x_scaled)\n",
    "\n",
    "# x = normal.values\n",
    "# x_max=np.nanmax(x) \n",
    "# x_min=np.nanmin(x)\n",
    "# x_std = (x - x_min)/(x_max - x_min)\n",
    "# normal = pd.DataFrame(x_std)"
   ]
  },
  {
   "cell_type": "code",
   "execution_count": 10,
   "metadata": {
    "colab": {
     "base_uri": "https://localhost:8080/",
     "height": 126
    },
    "id": "mQ6_U4jn9nlw",
    "outputId": "f1cc1bd6-f1cc-4764-b1cc-2fd989ac4918"
   },
   "outputs": [
    {
     "data": {
      "text/html": [
       "<div>\n",
       "<style scoped>\n",
       "    .dataframe tbody tr th:only-of-type {\n",
       "        vertical-align: middle;\n",
       "    }\n",
       "\n",
       "    .dataframe tbody tr th {\n",
       "        vertical-align: top;\n",
       "    }\n",
       "\n",
       "    .dataframe thead th {\n",
       "        text-align: right;\n",
       "    }\n",
       "</style>\n",
       "<table border=\"1\" class=\"dataframe\">\n",
       "  <thead>\n",
       "    <tr style=\"text-align: right;\">\n",
       "      <th></th>\n",
       "      <th>0</th>\n",
       "      <th>1</th>\n",
       "      <th>2</th>\n",
       "      <th>3</th>\n",
       "      <th>4</th>\n",
       "      <th>5</th>\n",
       "      <th>6</th>\n",
       "      <th>7</th>\n",
       "      <th>8</th>\n",
       "      <th>9</th>\n",
       "      <th>...</th>\n",
       "      <th>41</th>\n",
       "      <th>42</th>\n",
       "      <th>43</th>\n",
       "      <th>44</th>\n",
       "      <th>45</th>\n",
       "      <th>46</th>\n",
       "      <th>47</th>\n",
       "      <th>48</th>\n",
       "      <th>49</th>\n",
       "      <th>50</th>\n",
       "    </tr>\n",
       "  </thead>\n",
       "  <tbody>\n",
       "    <tr>\n",
       "      <th>0</th>\n",
       "      <td>0.0</td>\n",
       "      <td>0.005294</td>\n",
       "      <td>0.5</td>\n",
       "      <td>0.0</td>\n",
       "      <td>0.0</td>\n",
       "      <td>0.012291</td>\n",
       "      <td>0.075099</td>\n",
       "      <td>0.002009</td>\n",
       "      <td>0.0</td>\n",
       "      <td>0.5</td>\n",
       "      <td>...</td>\n",
       "      <td>0.0</td>\n",
       "      <td>0.0</td>\n",
       "      <td>0.0</td>\n",
       "      <td>0.000814</td>\n",
       "      <td>0.0</td>\n",
       "      <td>0.001217</td>\n",
       "      <td>0.000147</td>\n",
       "      <td>0.0</td>\n",
       "      <td>0.0</td>\n",
       "      <td>0.0</td>\n",
       "    </tr>\n",
       "    <tr>\n",
       "      <th>1</th>\n",
       "      <td>0.0</td>\n",
       "      <td>0.005407</td>\n",
       "      <td>0.5</td>\n",
       "      <td>0.0</td>\n",
       "      <td>0.0</td>\n",
       "      <td>0.012291</td>\n",
       "      <td>0.075099</td>\n",
       "      <td>0.002009</td>\n",
       "      <td>0.0</td>\n",
       "      <td>0.5</td>\n",
       "      <td>...</td>\n",
       "      <td>0.0</td>\n",
       "      <td>0.0</td>\n",
       "      <td>0.0</td>\n",
       "      <td>0.000814</td>\n",
       "      <td>0.0</td>\n",
       "      <td>0.001217</td>\n",
       "      <td>0.000147</td>\n",
       "      <td>0.0</td>\n",
       "      <td>0.0</td>\n",
       "      <td>0.0</td>\n",
       "    </tr>\n",
       "  </tbody>\n",
       "</table>\n",
       "<p>2 rows × 51 columns</p>\n",
       "</div>"
      ],
      "text/plain": [
       "    0         1    2    3    4         5         6         7    8    9   ...  \\\n",
       "0  0.0  0.005294  0.5  0.0  0.0  0.012291  0.075099  0.002009  0.0  0.5  ...   \n",
       "1  0.0  0.005407  0.5  0.0  0.0  0.012291  0.075099  0.002009  0.0  0.5  ...   \n",
       "\n",
       "    41   42   43        44   45        46        47   48   49   50  \n",
       "0  0.0  0.0  0.0  0.000814  0.0  0.001217  0.000147  0.0  0.0  0.0  \n",
       "1  0.0  0.0  0.0  0.000814  0.0  0.001217  0.000147  0.0  0.0  0.0  \n",
       "\n",
       "[2 rows x 51 columns]"
      ]
     },
     "execution_count": 10,
     "metadata": {},
     "output_type": "execute_result"
    }
   ],
   "source": [
    "normal.head(2)"
   ]
  },
  {
   "cell_type": "markdown",
   "metadata": {
    "id": "_i71RFAi9spa"
   },
   "source": [
    "### Attack"
   ]
  },
  {
   "cell_type": "code",
   "execution_count": 11,
   "metadata": {
    "colab": {
     "base_uri": "https://localhost:8080/",
     "height": 87
    },
    "id": "aN_TFp5x9uTE",
    "outputId": "38d7993d-c9a3-461d-c430-ebde697afbc6"
   },
   "outputs": [
    {
     "name": "stderr",
     "output_type": "stream",
     "text": [
      "/home/suraj/anaconda3/lib/python3.7/site-packages/IPython/core/interactiveshell.py:3457: DtypeWarning: Columns (1,9,28,46) have mixed types.Specify dtype option on import or set low_memory=False.\n",
      "  exec(code_obj, self.user_global_ns, self.user_ns)\n"
     ]
    },
    {
     "data": {
      "text/plain": [
       "(449919, 51)"
      ]
     },
     "execution_count": 11,
     "metadata": {},
     "output_type": "execute_result"
    }
   ],
   "source": [
    "#Read data\n",
    "attack = pd.read_csv(\"input/SWaT_Dataset_Attack_v0.csv\",sep=\";\")#, nrows=1000)\n",
    "labels = [ float(label!= 'Normal' ) for label  in attack[\"Normal/Attack\"].values]\n",
    "attack = attack.drop([\"Timestamp\" , \"Normal/Attack\" ] , axis = 1)\n",
    "attack.shape"
   ]
  },
  {
   "cell_type": "code",
   "execution_count": 12,
   "metadata": {},
   "outputs": [],
   "source": [
    "# Transform all columns into float64\n",
    "for i in list(attack):\n",
    "    attack[i]=attack[i].apply(lambda x: str(x).replace(\",\" , \".\"))\n",
    "attack = attack.astype(float)"
   ]
  },
  {
   "cell_type": "code",
   "execution_count": null,
   "metadata": {},
   "outputs": [],
   "source": [
    "#Downsampling the attack data\n",
    "attack=attack.groupby(np.arange(len(attack.index)) // down_rate).mean()\n",
    "attack.shape"
   ]
  },
  {
   "cell_type": "code",
   "execution_count": null,
   "metadata": {},
   "outputs": [],
   "source": [
    "#Downsampling the labels\n",
    "labels_down=[]\n",
    "\n",
    "for i in range(len(labels)//down_rate):\n",
    "    if labels[5*i:5*(i+1)].count(1.0):\n",
    "        labels_down.append(1.0) #Attack\n",
    "    else:\n",
    "        labels_down.append(0.0) #Normal\n",
    "\n",
    "#for the last few labels that are not within a full-length window\n",
    "if labels[down_rate*(i+1):].count(1.0):\n",
    "    labels_down.append(1.0) #Attack\n",
    "else:\n",
    "    labels_down.append(0.0) #Normal\n",
    "\n",
    "print(len(labels_down))"
   ]
  },
  {
   "cell_type": "markdown",
   "metadata": {
    "id": "c4cB4v3N-Dhu"
   },
   "source": [
    "#### Normalization"
   ]
  },
  {
   "cell_type": "code",
   "execution_count": 13,
   "metadata": {
    "id": "jZrha9cO-BGK"
   },
   "outputs": [],
   "source": [
    "from sklearn import preprocessing\n",
    "\n",
    "x = attack.values \n",
    "x_scaled = min_max_scaler.transform(x)\n",
    "attack = pd.DataFrame(x_scaled)\n",
    "\n",
    "# x = attack.values \n",
    "# x_std = (x - x_min)/(x_max - x_min)\n",
    "# attack = pd.DataFrame(x_std)"
   ]
  },
  {
   "cell_type": "code",
   "execution_count": 14,
   "metadata": {
    "colab": {
     "base_uri": "https://localhost:8080/",
     "height": 126
    },
    "id": "z9SwiPco-BUa",
    "outputId": "f2507282-c0f9-4253-ece7-0a802b68240f"
   },
   "outputs": [
    {
     "data": {
      "text/html": [
       "<div>\n",
       "<style scoped>\n",
       "    .dataframe tbody tr th:only-of-type {\n",
       "        vertical-align: middle;\n",
       "    }\n",
       "\n",
       "    .dataframe tbody tr th {\n",
       "        vertical-align: top;\n",
       "    }\n",
       "\n",
       "    .dataframe thead th {\n",
       "        text-align: right;\n",
       "    }\n",
       "</style>\n",
       "<table border=\"1\" class=\"dataframe\">\n",
       "  <thead>\n",
       "    <tr style=\"text-align: right;\">\n",
       "      <th></th>\n",
       "      <th>0</th>\n",
       "      <th>1</th>\n",
       "      <th>2</th>\n",
       "      <th>3</th>\n",
       "      <th>4</th>\n",
       "      <th>5</th>\n",
       "      <th>6</th>\n",
       "      <th>7</th>\n",
       "      <th>8</th>\n",
       "      <th>9</th>\n",
       "      <th>...</th>\n",
       "      <th>41</th>\n",
       "      <th>42</th>\n",
       "      <th>43</th>\n",
       "      <th>44</th>\n",
       "      <th>45</th>\n",
       "      <th>46</th>\n",
       "      <th>47</th>\n",
       "      <th>48</th>\n",
       "      <th>49</th>\n",
       "      <th>50</th>\n",
       "    </tr>\n",
       "  </thead>\n",
       "  <tbody>\n",
       "    <tr>\n",
       "      <th>0</th>\n",
       "      <td>0.884144</td>\n",
       "      <td>0.577133</td>\n",
       "      <td>1.0</td>\n",
       "      <td>1.0</td>\n",
       "      <td>0.0</td>\n",
       "      <td>0.496158</td>\n",
       "      <td>0.188845</td>\n",
       "      <td>0.064088</td>\n",
       "      <td>0.982899</td>\n",
       "      <td>1.0</td>\n",
       "      <td>...</td>\n",
       "      <td>0.970903</td>\n",
       "      <td>1.0</td>\n",
       "      <td>0.0</td>\n",
       "      <td>0.946125</td>\n",
       "      <td>0.449782</td>\n",
       "      <td>0.944116</td>\n",
       "      <td>0.000073</td>\n",
       "      <td>0.0</td>\n",
       "      <td>0.0</td>\n",
       "      <td>0.0</td>\n",
       "    </tr>\n",
       "    <tr>\n",
       "      <th>1</th>\n",
       "      <td>0.891145</td>\n",
       "      <td>0.577190</td>\n",
       "      <td>1.0</td>\n",
       "      <td>1.0</td>\n",
       "      <td>0.0</td>\n",
       "      <td>0.496158</td>\n",
       "      <td>0.188845</td>\n",
       "      <td>0.064088</td>\n",
       "      <td>0.982899</td>\n",
       "      <td>1.0</td>\n",
       "      <td>...</td>\n",
       "      <td>0.970903</td>\n",
       "      <td>1.0</td>\n",
       "      <td>0.0</td>\n",
       "      <td>0.946125</td>\n",
       "      <td>0.449782</td>\n",
       "      <td>0.944521</td>\n",
       "      <td>0.000073</td>\n",
       "      <td>0.0</td>\n",
       "      <td>0.0</td>\n",
       "      <td>0.0</td>\n",
       "    </tr>\n",
       "  </tbody>\n",
       "</table>\n",
       "<p>2 rows × 51 columns</p>\n",
       "</div>"
      ],
      "text/plain": [
       "         0         1    2    3    4         5         6         7         8   \\\n",
       "0  0.884144  0.577133  1.0  1.0  0.0  0.496158  0.188845  0.064088  0.982899   \n",
       "1  0.891145  0.577190  1.0  1.0  0.0  0.496158  0.188845  0.064088  0.982899   \n",
       "\n",
       "    9   ...        41   42   43        44        45        46        47   48  \\\n",
       "0  1.0  ...  0.970903  1.0  0.0  0.946125  0.449782  0.944116  0.000073  0.0   \n",
       "1  1.0  ...  0.970903  1.0  0.0  0.946125  0.449782  0.944521  0.000073  0.0   \n",
       "\n",
       "    49   50  \n",
       "0  0.0  0.0  \n",
       "1  0.0  0.0  \n",
       "\n",
       "[2 rows x 51 columns]"
      ]
     },
     "execution_count": 14,
     "metadata": {},
     "output_type": "execute_result"
    }
   ],
   "source": [
    "attack.head(2)"
   ]
  },
  {
   "cell_type": "markdown",
   "metadata": {
    "id": "xXJi503b-j_d"
   },
   "source": [
    "### Windows"
   ]
  },
  {
   "cell_type": "code",
   "execution_count": 15,
   "metadata": {
    "id": "vyplttZa-BRN"
   },
   "outputs": [],
   "source": [
    "window_size=12"
   ]
  },
  {
   "cell_type": "code",
   "execution_count": 16,
   "metadata": {
    "colab": {
     "base_uri": "https://localhost:8080/",
     "height": 34
    },
    "id": "dzGJMp6Y-BN5",
    "outputId": "2949d278-1313-442c-f06b-275a8c6c6578"
   },
   "outputs": [
    {
     "data": {
      "text/plain": [
       "(494988, 12, 51)"
      ]
     },
     "execution_count": 16,
     "metadata": {},
     "output_type": "execute_result"
    }
   ],
   "source": [
    "windows_normal=normal.values[np.arange(window_size)[None, :] + np.arange(normal.shape[0]-window_size)[:, None]]\n",
    "windows_normal.shape"
   ]
  },
  {
   "cell_type": "code",
   "execution_count": 17,
   "metadata": {
    "colab": {
     "base_uri": "https://localhost:8080/",
     "height": 34
    },
    "id": "17LdB3c8-pRH",
    "outputId": "721059d4-5937-4dd3-d73c-e5d255fc273c"
   },
   "outputs": [
    {
     "data": {
      "text/plain": [
       "(449907, 12, 51)"
      ]
     },
     "execution_count": 17,
     "metadata": {},
     "output_type": "execute_result"
    }
   ],
   "source": [
    "windows_attack=attack.values[np.arange(window_size)[None, :] + np.arange(attack.shape[0]-window_size)[:, None]]\n",
    "windows_attack.shape"
   ]
  },
  {
   "cell_type": "markdown",
   "metadata": {
    "id": "k70ZFxGs-_7m"
   },
   "source": [
    "## Training"
   ]
  },
  {
   "cell_type": "code",
   "execution_count": 18,
   "metadata": {
    "id": "yi9S0SGnDKNc"
   },
   "outputs": [],
   "source": [
    "import torch.utils.data as data_utils\n",
    "\n",
    "BATCH_SIZE =  7919\n",
    "N_EPOCHS = 70\n",
    "hidden_size = 40\n",
    "\n",
    "w_size=windows_normal.shape[1]*windows_normal.shape[2]\n",
    "z_size=windows_normal.shape[1]*hidden_size\n",
    "\n",
    "windows_normal_train = windows_normal[:int(np.floor(.8 *  windows_normal.shape[0]))]\n",
    "windows_normal_val = windows_normal[int(np.floor(.8 *  windows_normal.shape[0])):int(np.floor(windows_normal.shape[0]))]\n",
    "\n",
    "train_loader = torch.utils.data.DataLoader(data_utils.TensorDataset(\n",
    "    torch.from_numpy(windows_normal_train).float().view(([windows_normal_train.shape[0],w_size]))\n",
    ") , batch_size=BATCH_SIZE, shuffle=False, num_workers=0)\n",
    "\n",
    "val_loader = torch.utils.data.DataLoader(data_utils.TensorDataset(\n",
    "    torch.from_numpy(windows_normal_val).float().view(([windows_normal_val.shape[0],w_size]))\n",
    ") , batch_size=BATCH_SIZE, shuffle=False, num_workers=0)\n",
    "\n",
    "test_loader = torch.utils.data.DataLoader(data_utils.TensorDataset(\n",
    "    torch.from_numpy(windows_attack).float().view(([windows_attack.shape[0],w_size]))\n",
    ") , batch_size=BATCH_SIZE, shuffle=False, num_workers=0)\n",
    "\n",
    "model = UsadModel(w_size, z_size)\n",
    "model = to_device(model,device)"
   ]
  },
  {
   "cell_type": "code",
   "execution_count": 19,
   "metadata": {
    "colab": {
     "base_uri": "https://localhost:8080/",
     "height": 1000
    },
    "id": "So9yjDPEDObC",
    "outputId": "629bcd13-37b1-4907-ef0d-46d9e3ad5398",
    "scrolled": true
   },
   "outputs": [],
   "source": [
    "# history = training(N_EPOCHS,model,train_loader,val_loader)"
   ]
  },
  {
   "cell_type": "code",
   "execution_count": 20,
   "metadata": {
    "colab": {
     "base_uri": "https://localhost:8080/",
     "height": 295
    },
    "id": "fYwlN0JKVVtN",
    "outputId": "c742ff8b-3b4a-41f5-dd09-effee1be928a"
   },
   "outputs": [],
   "source": [
    "# plot_history(history)"
   ]
  },
  {
   "cell_type": "code",
   "execution_count": 21,
   "metadata": {
    "id": "ieObNqKYsOzh"
   },
   "outputs": [],
   "source": [
    "# torch.save({\n",
    "#             'encoder': model.encoder.state_dict(),\n",
    "#             'decoder1': model.decoder1.state_dict(),\n",
    "#             'decoder2': model.decoder2.state_dict()\n",
    "#             }, \"model_SWaT.pth\")"
   ]
  },
  {
   "cell_type": "markdown",
   "metadata": {},
   "source": [
    "#### Another way to save the model!"
   ]
  },
  {
   "cell_type": "code",
   "execution_count": 22,
   "metadata": {},
   "outputs": [],
   "source": [
    "import pickle"
   ]
  },
  {
   "cell_type": "code",
   "execution_count": 23,
   "metadata": {},
   "outputs": [],
   "source": [
    "# filename = 'usad_model_SWaT.sav'\n",
    "# pickle.dump(model, open(filename, 'wb'))"
   ]
  },
  {
   "cell_type": "code",
   "execution_count": 24,
   "metadata": {},
   "outputs": [],
   "source": [
    "# load the model\n",
    "filename = 'usad_model_SWaT.sav'\n",
    "loaded_model = pickle.load(open(filename, 'rb'))"
   ]
  },
  {
   "cell_type": "markdown",
   "metadata": {
    "id": "ymhjbmvR_DgJ"
   },
   "source": [
    "## Testing"
   ]
  },
  {
   "cell_type": "code",
   "execution_count": 25,
   "metadata": {
    "colab": {
     "base_uri": "https://localhost:8080/",
     "height": 34
    },
    "id": "b7rbm9wdXKeF",
    "outputId": "076309c7-22be-41f6-f916-5f11cb679672"
   },
   "outputs": [
    {
     "data": {
      "text/plain": [
       "<All keys matched successfully>"
      ]
     },
     "execution_count": 25,
     "metadata": {},
     "output_type": "execute_result"
    }
   ],
   "source": [
    "checkpoint = torch.load(\"model_SWaT.pth\")\n",
    "\n",
    "model.encoder.load_state_dict(checkpoint['encoder'])\n",
    "model.decoder1.load_state_dict(checkpoint['decoder1'])\n",
    "model.decoder2.load_state_dict(checkpoint['decoder2'])"
   ]
  },
  {
   "cell_type": "code",
   "execution_count": 26,
   "metadata": {},
   "outputs": [],
   "source": [
    "training_scores_list=training_scores(model,train_loader)"
   ]
  },
  {
   "cell_type": "code",
   "execution_count": 27,
   "metadata": {},
   "outputs": [
    {
     "data": {
      "text/plain": [
       "[tensor([0.3293, 0.3293, 0.3293,  ..., 0.0591, 0.0591, 0.0591],\n",
       "        grad_fn=<AddBackward0>),\n",
       " tensor([0.0592, 0.0592, 0.0592,  ..., 0.0461, 0.0462, 0.0462],\n",
       "        grad_fn=<AddBackward0>),\n",
       " tensor([0.0463, 0.0463, 0.0464,  ..., 0.0488, 0.0488, 0.0488],\n",
       "        grad_fn=<AddBackward0>),\n",
       " tensor([0.0488, 0.0487, 0.0488,  ..., 0.0596, 0.0596, 0.0595],\n",
       "        grad_fn=<AddBackward0>),\n",
       " tensor([0.0595, 0.0595, 0.0595,  ..., 0.0885, 0.0884, 0.0883],\n",
       "        grad_fn=<AddBackward0>),\n",
       " tensor([0.0883, 0.0882, 0.0882,  ..., 0.0454, 0.0455, 0.0454],\n",
       "        grad_fn=<AddBackward0>),\n",
       " tensor([0.0454, 0.0454, 0.0453,  ..., 0.0524, 0.0524, 0.0523],\n",
       "        grad_fn=<AddBackward0>),\n",
       " tensor([0.0523, 0.0523, 0.0523,  ..., 0.0485, 0.0486, 0.0487],\n",
       "        grad_fn=<AddBackward0>),\n",
       " tensor([0.0487, 0.0488, 0.0488,  ..., 0.0854, 0.0854, 0.0854],\n",
       "        grad_fn=<AddBackward0>),\n",
       " tensor([0.0854, 0.0854, 0.0854,  ..., 0.1046, 0.1046, 0.1047],\n",
       "        grad_fn=<AddBackward0>),\n",
       " tensor([0.1047, 0.1048, 0.1049,  ..., 0.0223, 0.0222, 0.0223],\n",
       "        grad_fn=<AddBackward0>),\n",
       " tensor([0.0223, 0.0223, 0.0224,  ..., 0.0240, 0.0240, 0.0241],\n",
       "        grad_fn=<AddBackward0>),\n",
       " tensor([0.0241, 0.0242, 0.0243,  ..., 0.0230, 0.0230, 0.0231],\n",
       "        grad_fn=<AddBackward0>),\n",
       " tensor([0.0231, 0.0232, 0.0232,  ..., 0.0261, 0.0261, 0.0261],\n",
       "        grad_fn=<AddBackward0>),\n",
       " tensor([0.0261, 0.0261, 0.0261,  ..., 0.0232, 0.0232, 0.0232],\n",
       "        grad_fn=<AddBackward0>),\n",
       " tensor([0.0231, 0.0231, 0.0231,  ..., 0.0299, 0.0299, 0.0299],\n",
       "        grad_fn=<AddBackward0>),\n",
       " tensor([0.0299, 0.0299, 0.0299,  ..., 0.0279, 0.0279, 0.0278],\n",
       "        grad_fn=<AddBackward0>),\n",
       " tensor([0.0278, 0.0278, 0.0278,  ..., 0.0670, 0.0670, 0.0670],\n",
       "        grad_fn=<AddBackward0>),\n",
       " tensor([0.0670, 0.0670, 0.0670,  ..., 0.0864, 0.0875, 0.0886],\n",
       "        grad_fn=<AddBackward0>),\n",
       " tensor([0.0897, 0.0909, 0.0920,  ..., 0.0820, 0.0819, 0.0818],\n",
       "        grad_fn=<AddBackward0>),\n",
       " tensor([0.0818, 0.0817, 0.0816,  ..., 0.0082, 0.0082, 0.0083],\n",
       "        grad_fn=<AddBackward0>),\n",
       " tensor([0.0083, 0.0083, 0.0084,  ..., 0.0081, 0.0081, 0.0081],\n",
       "        grad_fn=<AddBackward0>),\n",
       " tensor([0.0081, 0.0081, 0.0081,  ..., 0.0078, 0.0078, 0.0077],\n",
       "        grad_fn=<AddBackward0>),\n",
       " tensor([0.0077, 0.0076, 0.0076,  ..., 0.0077, 0.0076, 0.0075],\n",
       "        grad_fn=<AddBackward0>),\n",
       " tensor([0.0075, 0.0074, 0.0074,  ..., 0.0075, 0.0075, 0.0076],\n",
       "        grad_fn=<AddBackward0>),\n",
       " tensor([0.0076, 0.0076, 0.0076,  ..., 0.0081, 0.0081, 0.0080],\n",
       "        grad_fn=<AddBackward0>),\n",
       " tensor([0.0092, 0.0104, 0.0130,  ..., 0.0080, 0.0080, 0.0080],\n",
       "        grad_fn=<AddBackward0>),\n",
       " tensor([0.0079, 0.0079, 0.0078,  ..., 0.0177, 0.0177, 0.0177],\n",
       "        grad_fn=<AddBackward0>),\n",
       " tensor([0.0177, 0.0177, 0.0177,  ..., 0.0185, 0.0185, 0.0185],\n",
       "        grad_fn=<AddBackward0>),\n",
       " tensor([0.0185, 0.0185, 0.0185,  ..., 0.0624, 0.0624, 0.0624],\n",
       "        grad_fn=<AddBackward0>),\n",
       " tensor([0.0624, 0.0624, 0.0624,  ..., 0.0655, 0.0651, 0.0646],\n",
       "        grad_fn=<AddBackward0>),\n",
       " tensor([0.0642, 0.0638, 0.0635,  ..., 0.0798, 0.0799, 0.0800],\n",
       "        grad_fn=<AddBackward0>),\n",
       " tensor([0.0801, 0.0802, 0.0802,  ..., 0.0065, 0.0065, 0.0065],\n",
       "        grad_fn=<AddBackward0>),\n",
       " tensor([0.0065, 0.0066, 0.0066,  ..., 0.0071, 0.0071, 0.0071],\n",
       "        grad_fn=<AddBackward0>),\n",
       " tensor([0.0071, 0.0070, 0.0070,  ..., 0.0072, 0.0072, 0.0072],\n",
       "        grad_fn=<AddBackward0>),\n",
       " tensor([0.0073, 0.0074, 0.0074,  ..., 0.0078, 0.0078, 0.0079],\n",
       "        grad_fn=<AddBackward0>),\n",
       " tensor([0.0079, 0.0080, 0.0080,  ..., 0.0187, 0.0187, 0.0187],\n",
       "        grad_fn=<AddBackward0>),\n",
       " tensor([0.0187, 0.0187, 0.0187,  ..., 0.0629, 0.0629, 0.0629],\n",
       "        grad_fn=<AddBackward0>),\n",
       " tensor([0.0629, 0.0629, 0.0629,  ..., 0.0813, 0.0813, 0.0814],\n",
       "        grad_fn=<AddBackward0>),\n",
       " tensor([0.0814, 0.0814, 0.0814,  ..., 0.0070, 0.0071, 0.0071],\n",
       "        grad_fn=<AddBackward0>),\n",
       " tensor([0.0072, 0.0072, 0.0073,  ..., 0.0075, 0.0076, 0.0076],\n",
       "        grad_fn=<AddBackward0>),\n",
       " tensor([0.0077, 0.0077, 0.0077,  ..., 0.0083, 0.0082, 0.0082],\n",
       "        grad_fn=<AddBackward0>),\n",
       " tensor([0.0081, 0.0080, 0.0080,  ..., 0.0190, 0.0190, 0.0190],\n",
       "        grad_fn=<AddBackward0>),\n",
       " tensor([0.0190, 0.0190, 0.0190,  ..., 0.0540, 0.0539, 0.0539],\n",
       "        grad_fn=<AddBackward0>),\n",
       " tensor([0.0539, 0.0538, 0.0539,  ..., 0.0079, 0.0079, 0.0080],\n",
       "        grad_fn=<AddBackward0>),\n",
       " tensor([0.0080, 0.0080, 0.0080,  ..., 0.0545, 0.0544, 0.0544],\n",
       "        grad_fn=<AddBackward0>),\n",
       " tensor([0.0543, 0.0543, 0.0542,  ..., 0.0074, 0.0074, 0.0075],\n",
       "        grad_fn=<AddBackward0>),\n",
       " tensor([0.0075, 0.0076, 0.0077,  ..., 0.0087, 0.0087, 0.0086],\n",
       "        grad_fn=<AddBackward0>),\n",
       " tensor([0.0086, 0.0086, 0.0086,  ..., 0.0085, 0.0086, 0.0087],\n",
       "        grad_fn=<AddBackward0>),\n",
       " tensor([0.0087, 0.0088, 0.0088,  ..., 0.0194, 0.0194, 0.0194],\n",
       "        grad_fn=<AddBackward0>),\n",
       " tensor([0.0194, 0.0194, 0.0194, 0.0194, 0.0194, 0.0194, 0.0194, 0.0194, 0.0194,\n",
       "         0.0193, 0.0193, 0.0193, 0.0193, 0.0193, 0.0193, 0.0193, 0.0193, 0.0192,\n",
       "         0.0192, 0.0192, 0.0192, 0.0192, 0.0192, 0.0192, 0.0192, 0.0192, 0.0192,\n",
       "         0.0192, 0.0192, 0.0192, 0.0192, 0.0192, 0.0192, 0.0192, 0.0192, 0.0192,\n",
       "         0.0192, 0.0192, 0.0191, 0.0191], grad_fn=<AddBackward0>)]"
      ]
     },
     "execution_count": 27,
     "metadata": {},
     "output_type": "execute_result"
    }
   ],
   "source": [
    "training_scores_list"
   ]
  },
  {
   "cell_type": "code",
   "execution_count": 28,
   "metadata": {},
   "outputs": [],
   "source": [
    "training_scores_concat=np.concatenate([torch.stack(training_scores_list[:-1]).flatten().detach().cpu().numpy(),\n",
    "                            training_scores_list[-1].flatten().detach().cpu().numpy()])"
   ]
  },
  {
   "cell_type": "code",
   "execution_count": 29,
   "metadata": {},
   "outputs": [
    {
     "name": "stdout",
     "output_type": "stream",
     "text": [
      "[0.3292689  0.3292666  0.32927644 ... 0.01915107 0.0191438  0.01913451]\n"
     ]
    }
   ],
   "source": [
    "print(training_scores_concat)"
   ]
  },
  {
   "cell_type": "code",
   "execution_count": 30,
   "metadata": {},
   "outputs": [
    {
     "data": {
      "text/plain": [
       "0.0063223615"
      ]
     },
     "execution_count": 30,
     "metadata": {},
     "output_type": "execute_result"
    }
   ],
   "source": [
    "min(training_scores_concat)"
   ]
  },
  {
   "cell_type": "code",
   "execution_count": 31,
   "metadata": {
    "id": "Ry1QTp6V2ny4"
   },
   "outputs": [],
   "source": [
    "results=training_scores(model, test_loader) # testing"
   ]
  },
  {
   "cell_type": "code",
   "execution_count": 32,
   "metadata": {},
   "outputs": [
    {
     "name": "stdout",
     "output_type": "stream",
     "text": [
      "[tensor([0.0100, 0.0100, 0.0101,  ..., 0.0548, 0.0549, 0.0549],\n",
      "       grad_fn=<AddBackward0>), tensor([0.0549, 0.0549, 0.0549,  ..., 0.1632, 0.1635, 0.1637],\n",
      "       grad_fn=<AddBackward0>), tensor([0.1640, 0.1642, 0.1645,  ..., 0.0100, 0.0100, 0.0100],\n",
      "       grad_fn=<AddBackward0>), tensor([0.0100, 0.0101, 0.0101,  ..., 0.0220, 0.0220, 0.0220],\n",
      "       grad_fn=<AddBackward0>), tensor([0.0220, 0.0220, 0.0220,  ..., 0.0124, 0.0125, 0.0126],\n",
      "       grad_fn=<AddBackward0>), tensor([0.0127, 0.0127, 0.0128,  ..., 0.0586, 0.0586, 0.0585],\n",
      "       grad_fn=<AddBackward0>), tensor([0.0585, 0.0584, 0.0583,  ..., 0.0315, 0.0321, 0.0314],\n",
      "       grad_fn=<AddBackward0>), tensor([0.0305, 0.0295, 0.0286,  ..., 0.0689, 0.0689, 0.0689],\n",
      "       grad_fn=<AddBackward0>), tensor([0.0689, 0.0689, 0.0689,  ..., 0.0860, 0.0861, 0.0861],\n",
      "       grad_fn=<AddBackward0>), tensor([0.0862, 0.0863, 0.0864,  ..., 0.0126, 0.0126, 0.0126],\n",
      "       grad_fn=<AddBackward0>), tensor([0.0126, 0.0126, 0.0127,  ..., 0.0116, 0.0115, 0.0114],\n",
      "       grad_fn=<AddBackward0>), tensor([0.0114, 0.0114, 0.0113,  ..., 0.0127, 0.0127, 0.0127],\n",
      "       grad_fn=<AddBackward0>), tensor([0.0127, 0.0127, 0.0127,  ..., 0.0128, 0.0129, 0.0130],\n",
      "       grad_fn=<AddBackward0>), tensor([0.0130, 0.0131, 0.0131,  ..., 0.0268, 0.0278, 0.0289],\n",
      "       grad_fn=<AddBackward0>), tensor([0.0300, 0.0310, 0.0321,  ..., 0.0709, 0.0709, 0.0709],\n",
      "       grad_fn=<AddBackward0>), tensor([0.0709, 0.0709, 0.0709,  ..., 0.0308, 0.0307, 0.0307],\n",
      "       grad_fn=<AddBackward0>), tensor([0.0306, 0.0306, 0.0305,  ..., 0.0430, 0.0430, 0.0429],\n",
      "       grad_fn=<AddBackward0>), tensor([0.0429, 0.0429, 0.0428,  ..., 0.0585, 0.0584, 0.0584],\n",
      "       grad_fn=<AddBackward0>), tensor([0.0584, 0.0584, 0.0585,  ..., 0.0611, 0.0611, 0.0612],\n",
      "       grad_fn=<AddBackward0>), tensor([0.0612, 0.0612, 0.0613,  ..., 0.0786, 0.0786, 0.0787],\n",
      "       grad_fn=<AddBackward0>), tensor([0.0787, 0.0788, 0.0789,  ..., 0.1495, 0.1516, 0.1539],\n",
      "       grad_fn=<AddBackward0>), tensor([0.1564, 0.1592, 0.1623,  ..., 0.1260, 0.1260, 0.1260],\n",
      "       grad_fn=<AddBackward0>), tensor([0.1260, 0.1260, 0.1260,  ..., 0.1885, 0.1894, 0.1904],\n",
      "       grad_fn=<AddBackward0>), tensor([0.1897, 0.1890, 0.1882,  ..., 0.1476, 0.1476, 0.1475],\n",
      "       grad_fn=<AddBackward0>), tensor([0.1475, 0.1474, 0.1474,  ..., 0.1912, 0.1922, 0.1915],\n",
      "       grad_fn=<AddBackward0>), tensor([0.1907, 0.1898, 0.1877,  ..., 0.2020, 0.2021, 0.2021],\n",
      "       grad_fn=<AddBackward0>), tensor([0.2021, 0.2021, 0.2021,  ..., 0.2393, 0.2393, 0.2393],\n",
      "       grad_fn=<AddBackward0>), tensor([0.2393, 0.2392, 0.2392,  ..., 0.3355, 0.3352, 0.3350],\n",
      "       grad_fn=<AddBackward0>), tensor([0.3348, 0.3346, 0.3344,  ..., 0.3318, 0.3318, 0.3319],\n",
      "       grad_fn=<AddBackward0>), tensor([0.3320, 0.3320, 0.3321,  ..., 0.6516, 0.6515, 0.6513],\n",
      "       grad_fn=<AddBackward0>), tensor([0.6512, 0.6510, 0.6508,  ..., 0.6414, 0.6413, 0.6413],\n",
      "       grad_fn=<AddBackward0>), tensor([0.6413, 0.6413, 0.6413,  ..., 0.6328, 0.6328, 0.6329],\n",
      "       grad_fn=<AddBackward0>), tensor([0.6329, 0.6328, 0.6328,  ..., 0.5966, 0.5965, 0.5965],\n",
      "       grad_fn=<AddBackward0>), tensor([0.5965, 0.5965, 0.5965,  ..., 0.3327, 0.3327, 0.3328],\n",
      "       grad_fn=<AddBackward0>), tensor([0.3328, 0.3329, 0.3329,  ..., 0.3954, 0.3933, 0.3910],\n",
      "       grad_fn=<AddBackward0>), tensor([0.3884, 0.3857, 0.3831,  ..., 0.4038, 0.4038, 0.4038],\n",
      "       grad_fn=<AddBackward0>), tensor([0.4037, 0.4037, 0.4037,  ..., 0.3962, 0.3962, 0.3962],\n",
      "       grad_fn=<AddBackward0>), tensor([0.3962, 0.3963, 0.3963,  ..., 0.3867, 0.3866, 0.3866],\n",
      "       grad_fn=<AddBackward0>), tensor([0.3865, 0.3864, 0.3864,  ..., 0.4323, 0.4319, 0.4315],\n",
      "       grad_fn=<AddBackward0>), tensor([0.4311, 0.4308, 0.4304,  ..., 0.3926, 0.3926, 0.3925],\n",
      "       grad_fn=<AddBackward0>), tensor([0.3925, 0.3924, 0.3924,  ..., 0.3890, 0.3891, 0.3891],\n",
      "       grad_fn=<AddBackward0>), tensor([0.3892, 0.3892, 0.3893,  ..., 0.4244, 0.4244, 0.4245],\n",
      "       grad_fn=<AddBackward0>), tensor([0.4245, 0.4245, 0.4245,  ..., 0.3612, 0.3611, 0.3609],\n",
      "       grad_fn=<AddBackward0>), tensor([0.3606, 0.3603, 0.3600,  ..., 0.4263, 0.4263, 0.4262],\n",
      "       grad_fn=<AddBackward0>), tensor([0.4262, 0.4262, 0.4262,  ..., 0.3824, 0.3824, 0.3824],\n",
      "       grad_fn=<AddBackward0>), tensor([0.3825, 0.3824, 0.3824,  ..., 0.4194, 0.4193, 0.4192],\n",
      "       grad_fn=<AddBackward0>), tensor([0.4192, 0.4191, 0.4190,  ..., 0.4265, 0.4264, 0.4264],\n",
      "       grad_fn=<AddBackward0>), tensor([0.4263, 0.4262, 0.4262,  ..., 0.4383, 0.4383, 0.4383],\n",
      "       grad_fn=<AddBackward0>), tensor([0.4383, 0.4383, 0.4383,  ..., 0.4013, 0.4013, 0.4013],\n",
      "       grad_fn=<AddBackward0>), tensor([0.4014, 0.4014, 0.4015,  ..., 0.4559, 0.4559, 0.4559],\n",
      "       grad_fn=<AddBackward0>), tensor([0.4559, 0.4559, 0.4559,  ..., 0.4159, 0.4160, 0.4161],\n",
      "       grad_fn=<AddBackward0>), tensor([0.4162, 0.4163, 0.4164,  ..., 0.4877, 0.4877, 0.4877],\n",
      "       grad_fn=<AddBackward0>), tensor([0.4877, 0.4877, 0.4877,  ..., 0.4525, 0.4524, 0.4524],\n",
      "       grad_fn=<AddBackward0>), tensor([0.4523, 0.4523, 0.4522,  ..., 0.4492, 0.4492, 0.4492],\n",
      "       grad_fn=<AddBackward0>), tensor([0.4492, 0.4492, 0.4492,  ..., 0.4456, 0.4456, 0.4455],\n",
      "       grad_fn=<AddBackward0>), tensor([0.4454, 0.4454, 0.4453,  ..., 0.4895, 0.4895, 0.4896],\n",
      "       grad_fn=<AddBackward0>), tensor([0.4896, 0.4897, 0.4897,  ..., 0.4867, 0.4866, 0.4866],\n",
      "       grad_fn=<AddBackward0>)]\n"
     ]
    }
   ],
   "source": [
    "print(results)"
   ]
  },
  {
   "cell_type": "code",
   "execution_count": 33,
   "metadata": {},
   "outputs": [],
   "source": [
    "windows_labels=[]\n",
    "for i in range(len(labels)-window_size):\n",
    "    windows_labels.append(list(np.int_(labels[i:i+window_size])))"
   ]
  },
  {
   "cell_type": "code",
   "execution_count": 34,
   "metadata": {},
   "outputs": [],
   "source": [
    "y_test = [1.0 if (np.sum(window) > 0) else 0 for window in windows_labels] # this is with the point adjust?"
   ]
  },
  {
   "cell_type": "code",
   "execution_count": 35,
   "metadata": {
    "id": "FSWwxheNvxR7"
   },
   "outputs": [],
   "source": [
    "y_pred=np.concatenate([torch.stack(results[:-1]).flatten().detach().cpu().numpy(),\n",
    "                            results[-1].flatten().detach().cpu().numpy()])"
   ]
  },
  {
   "cell_type": "code",
   "execution_count": 36,
   "metadata": {},
   "outputs": [
    {
     "data": {
      "text/plain": [
       "[<matplotlib.lines.Line2D at 0x7f74f3d48790>]"
      ]
     },
     "execution_count": 36,
     "metadata": {},
     "output_type": "execute_result"
    },
    {
     "data": {
      "image/png": "[encoded data removed]",
      "text/plain": [
       "<Figure size 432x288 with 1 Axes>"
      ]
     },
     "metadata": {
      "needs_background": "light"
     },
     "output_type": "display_data"
    }
   ],
   "source": [
    "plt.plot(range(len(y_pred)),y_pred)"
   ]
  },
  {
   "cell_type": "code",
   "execution_count": 37,
   "metadata": {},
   "outputs": [],
   "source": [
    "results_threshold=testing_threshold(model,test_loader,alpha=.5, beta=.5, contamination=0.10)"
   ]
  },
  {
   "cell_type": "code",
   "execution_count": 38,
   "metadata": {},
   "outputs": [
    {
     "data": {
      "text/plain": [
       "0.47617567"
      ]
     },
     "execution_count": 38,
     "metadata": {},
     "output_type": "execute_result"
    }
   ],
   "source": [
    "results_threshold"
   ]
  },
  {
   "cell_type": "code",
   "execution_count": 39,
   "metadata": {
    "colab": {
     "base_uri": "https://localhost:8080/",
     "height": 279
    },
    "id": "bROUyLM93cG3",
    "outputId": "755359d9-d0fb-4deb-b313-d3c2a2465a26"
   },
   "outputs": [
    {
     "data": {
      "image/png": "[encoded data removed]",
      "text/plain": [
       "<Figure size 432x288 with 1 Axes>"
      ]
     },
     "metadata": {
      "needs_background": "light"
     },
     "output_type": "display_data"
    },
    {
     "data": {
      "text/plain": [
       "array([0.39044714], dtype=float32)"
      ]
     },
     "execution_count": 39,
     "metadata": {},
     "output_type": "execute_result"
    }
   ],
   "source": [
    "threshold=ROC(y_test,y_pred)\n",
    "threshold"
   ]
  },
  {
   "cell_type": "code",
   "execution_count": 40,
   "metadata": {},
   "outputs": [],
   "source": [
    "threshold=results_threshold # Decide on your own threshold\n",
    "y_pred_label = [1.0 if (score > threshold) else 0 for score in y_pred ]"
   ]
  },
  {
   "cell_type": "code",
   "execution_count": 41,
   "metadata": {},
   "outputs": [
    {
     "name": "stdout",
     "output_type": "stream",
     "text": [
      "precision= 0.7440542342742832\n",
      "recall= 0.6085699741846344\n",
      "f1= 0.6695267810712429\n"
     ]
    }
   ],
   "source": [
    "from sklearn.metrics import precision_score, recall_score, f1_score, classification_report\n",
    "prec=precision_score(y_test,y_pred_label,pos_label=1)\n",
    "recall=recall_score(y_test,y_pred_label,pos_label=1)\n",
    "f1=f1_score(y_test,y_pred_label,pos_label=1)\n",
    "print('precision=',prec)\n",
    "print('recall=',recall)\n",
    "print('f1=',f1)\n"
   ]
  },
  {
   "cell_type": "code",
   "execution_count": 42,
   "metadata": {},
   "outputs": [
    {
     "data": {
      "text/html": [
       "<div>\n",
       "<style scoped>\n",
       "    .dataframe tbody tr th:only-of-type {\n",
       "        vertical-align: middle;\n",
       "    }\n",
       "\n",
       "    .dataframe tbody tr th {\n",
       "        vertical-align: top;\n",
       "    }\n",
       "\n",
       "    .dataframe thead th {\n",
       "        text-align: right;\n",
       "    }\n",
       "</style>\n",
       "<table border=\"1\" class=\"dataframe\">\n",
       "  <thead>\n",
       "    <tr style=\"text-align: right;\">\n",
       "      <th></th>\n",
       "      <th>y_pred</th>\n",
       "      <th>y_test</th>\n",
       "    </tr>\n",
       "  </thead>\n",
       "  <tbody>\n",
       "    <tr>\n",
       "      <th>0</th>\n",
       "      <td>0.009966</td>\n",
       "      <td>0.0</td>\n",
       "    </tr>\n",
       "    <tr>\n",
       "      <th>1</th>\n",
       "      <td>0.010022</td>\n",
       "      <td>0.0</td>\n",
       "    </tr>\n",
       "    <tr>\n",
       "      <th>2</th>\n",
       "      <td>0.010071</td>\n",
       "      <td>0.0</td>\n",
       "    </tr>\n",
       "    <tr>\n",
       "      <th>3</th>\n",
       "      <td>0.010106</td>\n",
       "      <td>0.0</td>\n",
       "    </tr>\n",
       "    <tr>\n",
       "      <th>4</th>\n",
       "      <td>0.010117</td>\n",
       "      <td>0.0</td>\n",
       "    </tr>\n",
       "    <tr>\n",
       "      <th>...</th>\n",
       "      <td>...</td>\n",
       "      <td>...</td>\n",
       "    </tr>\n",
       "    <tr>\n",
       "      <th>449902</th>\n",
       "      <td>0.486704</td>\n",
       "      <td>0.0</td>\n",
       "    </tr>\n",
       "    <tr>\n",
       "      <th>449903</th>\n",
       "      <td>0.486691</td>\n",
       "      <td>0.0</td>\n",
       "    </tr>\n",
       "    <tr>\n",
       "      <th>449904</th>\n",
       "      <td>0.486670</td>\n",
       "      <td>0.0</td>\n",
       "    </tr>\n",
       "    <tr>\n",
       "      <th>449905</th>\n",
       "      <td>0.486629</td>\n",
       "      <td>0.0</td>\n",
       "    </tr>\n",
       "    <tr>\n",
       "      <th>449906</th>\n",
       "      <td>0.486580</td>\n",
       "      <td>0.0</td>\n",
       "    </tr>\n",
       "  </tbody>\n",
       "</table>\n",
       "<p>449907 rows × 2 columns</p>\n",
       "</div>"
      ],
      "text/plain": [
       "          y_pred  y_test\n",
       "0       0.009966     0.0\n",
       "1       0.010022     0.0\n",
       "2       0.010071     0.0\n",
       "3       0.010106     0.0\n",
       "4       0.010117     0.0\n",
       "...          ...     ...\n",
       "449902  0.486704     0.0\n",
       "449903  0.486691     0.0\n",
       "449904  0.486670     0.0\n",
       "449905  0.486629     0.0\n",
       "449906  0.486580     0.0\n",
       "\n",
       "[449907 rows x 2 columns]"
      ]
     },
     "execution_count": 42,
     "metadata": {},
     "output_type": "execute_result"
    }
   ],
   "source": [
    "data = {\"y_pred\":y_pred,\n",
    "       'y_test':y_test}\n",
    "df = pd.DataFrame(data)\n",
    "df"
   ]
  },
  {
   "cell_type": "code",
   "execution_count": 43,
   "metadata": {},
   "outputs": [],
   "source": [
    "df.to_csv('results_swat.csv')"
   ]
  },
  {
   "cell_type": "code",
   "execution_count": 3,
   "metadata": {},
   "outputs": [
    {
     "name": "stderr",
     "output_type": "stream",
     "text": [
      "/home/suraj/anaconda3/lib/python3.7/site-packages/IPython/core/interactiveshell.py:3457: DtypeWarning: Columns (1,9,28,46) have mixed types.Specify dtype option on import or set low_memory=False.\n",
      "  exec(code_obj, self.user_global_ns, self.user_ns)\n"
     ]
    },
    {
     "data": {
      "text/html": [
       "<div>\n",
       "<style scoped>\n",
       "    .dataframe tbody tr th:only-of-type {\n",
       "        vertical-align: middle;\n",
       "    }\n",
       "\n",
       "    .dataframe tbody tr th {\n",
       "        vertical-align: top;\n",
       "    }\n",
       "\n",
       "    .dataframe thead th {\n",
       "        text-align: right;\n",
       "    }\n",
       "</style>\n",
       "<table border=\"1\" class=\"dataframe\">\n",
       "  <thead>\n",
       "    <tr style=\"text-align: right;\">\n",
       "      <th></th>\n",
       "      <th>Timestamp</th>\n",
       "      <th>FIT101</th>\n",
       "      <th>LIT101</th>\n",
       "      <th>MV101</th>\n",
       "      <th>P101</th>\n",
       "      <th>P102</th>\n",
       "      <th>AIT201</th>\n",
       "      <th>AIT202</th>\n",
       "      <th>AIT203</th>\n",
       "      <th>FIT201</th>\n",
       "      <th>...</th>\n",
       "      <th>P501</th>\n",
       "      <th>P502</th>\n",
       "      <th>PIT501</th>\n",
       "      <th>PIT502</th>\n",
       "      <th>PIT503</th>\n",
       "      <th>FIT601</th>\n",
       "      <th>P601</th>\n",
       "      <th>P602</th>\n",
       "      <th>P603</th>\n",
       "      <th>Normal/Attack</th>\n",
       "    </tr>\n",
       "  </thead>\n",
       "  <tbody>\n",
       "    <tr>\n",
       "      <th>0</th>\n",
       "      <td>28/12/2015 10:00:00 AM</td>\n",
       "      <td>2,427057</td>\n",
       "      <td>522,8467</td>\n",
       "      <td>2</td>\n",
       "      <td>2</td>\n",
       "      <td>1</td>\n",
       "      <td>262,0161</td>\n",
       "      <td>8,396437</td>\n",
       "      <td>328,6337</td>\n",
       "      <td>2,445391</td>\n",
       "      <td>...</td>\n",
       "      <td>2</td>\n",
       "      <td>1</td>\n",
       "      <td>250,8652</td>\n",
       "      <td>1,649953</td>\n",
       "      <td>189,5988</td>\n",
       "      <td>0,000128152</td>\n",
       "      <td>1</td>\n",
       "      <td>1</td>\n",
       "      <td>1</td>\n",
       "      <td>Normal</td>\n",
       "    </tr>\n",
       "    <tr>\n",
       "      <th>1</th>\n",
       "      <td>28/12/2015 10:00:01 AM</td>\n",
       "      <td>2,446274</td>\n",
       "      <td>522,886</td>\n",
       "      <td>2</td>\n",
       "      <td>2</td>\n",
       "      <td>1</td>\n",
       "      <td>262,0161</td>\n",
       "      <td>8,396437</td>\n",
       "      <td>328,6337</td>\n",
       "      <td>2,445391</td>\n",
       "      <td>...</td>\n",
       "      <td>2</td>\n",
       "      <td>1</td>\n",
       "      <td>250,8652</td>\n",
       "      <td>1,649953</td>\n",
       "      <td>189,6789</td>\n",
       "      <td>0,000128152</td>\n",
       "      <td>1</td>\n",
       "      <td>1</td>\n",
       "      <td>1</td>\n",
       "      <td>Normal</td>\n",
       "    </tr>\n",
       "    <tr>\n",
       "      <th>2</th>\n",
       "      <td>28/12/2015 10:00:02 AM</td>\n",
       "      <td>2,489191</td>\n",
       "      <td>522,8467</td>\n",
       "      <td>2</td>\n",
       "      <td>2</td>\n",
       "      <td>1</td>\n",
       "      <td>262,0161</td>\n",
       "      <td>8,394514</td>\n",
       "      <td>328,6337</td>\n",
       "      <td>2,442316</td>\n",
       "      <td>...</td>\n",
       "      <td>2</td>\n",
       "      <td>1</td>\n",
       "      <td>250,8812</td>\n",
       "      <td>1,649953</td>\n",
       "      <td>189,6789</td>\n",
       "      <td>0,000128152</td>\n",
       "      <td>1</td>\n",
       "      <td>1</td>\n",
       "      <td>1</td>\n",
       "      <td>Normal</td>\n",
       "    </tr>\n",
       "    <tr>\n",
       "      <th>3</th>\n",
       "      <td>28/12/2015 10:00:03 AM</td>\n",
       "      <td>2,53435</td>\n",
       "      <td>522,9645</td>\n",
       "      <td>2</td>\n",
       "      <td>2</td>\n",
       "      <td>1</td>\n",
       "      <td>262,0161</td>\n",
       "      <td>8,394514</td>\n",
       "      <td>328,6337</td>\n",
       "      <td>2,442316</td>\n",
       "      <td>...</td>\n",
       "      <td>2</td>\n",
       "      <td>1</td>\n",
       "      <td>250,8812</td>\n",
       "      <td>1,649953</td>\n",
       "      <td>189,6148</td>\n",
       "      <td>0,000128152</td>\n",
       "      <td>1</td>\n",
       "      <td>1</td>\n",
       "      <td>1</td>\n",
       "      <td>Normal</td>\n",
       "    </tr>\n",
       "    <tr>\n",
       "      <th>4</th>\n",
       "      <td>28/12/2015 10:00:04 AM</td>\n",
       "      <td>2,56926</td>\n",
       "      <td>523,4748</td>\n",
       "      <td>2</td>\n",
       "      <td>2</td>\n",
       "      <td>1</td>\n",
       "      <td>262,0161</td>\n",
       "      <td>8,394514</td>\n",
       "      <td>328,6337</td>\n",
       "      <td>2,443085</td>\n",
       "      <td>...</td>\n",
       "      <td>2</td>\n",
       "      <td>1</td>\n",
       "      <td>250,8812</td>\n",
       "      <td>1,649953</td>\n",
       "      <td>189,5027</td>\n",
       "      <td>0,000128152</td>\n",
       "      <td>1</td>\n",
       "      <td>1</td>\n",
       "      <td>1</td>\n",
       "      <td>Normal</td>\n",
       "    </tr>\n",
       "    <tr>\n",
       "      <th>...</th>\n",
       "      <td>...</td>\n",
       "      <td>...</td>\n",
       "      <td>...</td>\n",
       "      <td>...</td>\n",
       "      <td>...</td>\n",
       "      <td>...</td>\n",
       "      <td>...</td>\n",
       "      <td>...</td>\n",
       "      <td>...</td>\n",
       "      <td>...</td>\n",
       "      <td>...</td>\n",
       "      <td>...</td>\n",
       "      <td>...</td>\n",
       "      <td>...</td>\n",
       "      <td>...</td>\n",
       "      <td>...</td>\n",
       "      <td>...</td>\n",
       "      <td>...</td>\n",
       "      <td>...</td>\n",
       "      <td>...</td>\n",
       "      <td>...</td>\n",
       "    </tr>\n",
       "    <tr>\n",
       "      <th>449914</th>\n",
       "      <td>2/1/2016 2:59:55 PM</td>\n",
       "      <td>2,559972</td>\n",
       "      <td>519,5495</td>\n",
       "      <td>2</td>\n",
       "      <td>2</td>\n",
       "      <td>1</td>\n",
       "      <td>168,0979</td>\n",
       "      <td>8,638683</td>\n",
       "      <td>301,9226</td>\n",
       "      <td>2,459488</td>\n",
       "      <td>...</td>\n",
       "      <td>2</td>\n",
       "      <td>1</td>\n",
       "      <td>251,1535</td>\n",
       "      <td>0,8650241</td>\n",
       "      <td>189,022</td>\n",
       "      <td>0</td>\n",
       "      <td>1</td>\n",
       "      <td>1</td>\n",
       "      <td>1</td>\n",
       "      <td>Normal</td>\n",
       "    </tr>\n",
       "    <tr>\n",
       "      <th>449915</th>\n",
       "      <td>2/1/2016 2:59:56 PM</td>\n",
       "      <td>2,549082</td>\n",
       "      <td>520,4131</td>\n",
       "      <td>2</td>\n",
       "      <td>2</td>\n",
       "      <td>1</td>\n",
       "      <td>168,0979</td>\n",
       "      <td>8,638683</td>\n",
       "      <td>301,9226</td>\n",
       "      <td>2,459488</td>\n",
       "      <td>...</td>\n",
       "      <td>2</td>\n",
       "      <td>1</td>\n",
       "      <td>251,0734</td>\n",
       "      <td>0,8650241</td>\n",
       "      <td>188,9259</td>\n",
       "      <td>0</td>\n",
       "      <td>1</td>\n",
       "      <td>1</td>\n",
       "      <td>1</td>\n",
       "      <td>Normal</td>\n",
       "    </tr>\n",
       "    <tr>\n",
       "      <th>449916</th>\n",
       "      <td>2/1/2016 2:59:57 PM</td>\n",
       "      <td>2,531467</td>\n",
       "      <td>520,6878</td>\n",
       "      <td>2</td>\n",
       "      <td>2</td>\n",
       "      <td>1</td>\n",
       "      <td>168,0979</td>\n",
       "      <td>8,638683</td>\n",
       "      <td>301,9226</td>\n",
       "      <td>2,460129</td>\n",
       "      <td>...</td>\n",
       "      <td>2</td>\n",
       "      <td>1</td>\n",
       "      <td>251,0734</td>\n",
       "      <td>0,8650241</td>\n",
       "      <td>188,9259</td>\n",
       "      <td>0</td>\n",
       "      <td>1</td>\n",
       "      <td>1</td>\n",
       "      <td>1</td>\n",
       "      <td>Normal</td>\n",
       "    </tr>\n",
       "    <tr>\n",
       "      <th>449917</th>\n",
       "      <td>2/1/2016 2:59:58 PM</td>\n",
       "      <td>2,521218</td>\n",
       "      <td>520,7271</td>\n",
       "      <td>2</td>\n",
       "      <td>2</td>\n",
       "      <td>1</td>\n",
       "      <td>168,0979</td>\n",
       "      <td>8,638683</td>\n",
       "      <td>301,9226</td>\n",
       "      <td>2,460129</td>\n",
       "      <td>...</td>\n",
       "      <td>2</td>\n",
       "      <td>1</td>\n",
       "      <td>251,0734</td>\n",
       "      <td>0,8650241</td>\n",
       "      <td>188,9259</td>\n",
       "      <td>0</td>\n",
       "      <td>1</td>\n",
       "      <td>1</td>\n",
       "      <td>1</td>\n",
       "      <td>Normal</td>\n",
       "    </tr>\n",
       "    <tr>\n",
       "      <th>449918</th>\n",
       "      <td>2/1/2016 2:59:59 PM</td>\n",
       "      <td>2,501681</td>\n",
       "      <td>521,1196</td>\n",
       "      <td>2</td>\n",
       "      <td>2</td>\n",
       "      <td>1</td>\n",
       "      <td>168,0979</td>\n",
       "      <td>8,638683</td>\n",
       "      <td>301,9226</td>\n",
       "      <td>2,458206</td>\n",
       "      <td>...</td>\n",
       "      <td>2</td>\n",
       "      <td>1</td>\n",
       "      <td>251,0734</td>\n",
       "      <td>0,8650241</td>\n",
       "      <td>188,9259</td>\n",
       "      <td>0</td>\n",
       "      <td>1</td>\n",
       "      <td>1</td>\n",
       "      <td>1</td>\n",
       "      <td>Normal</td>\n",
       "    </tr>\n",
       "  </tbody>\n",
       "</table>\n",
       "<p>449919 rows × 53 columns</p>\n",
       "</div>"
      ],
      "text/plain": [
       "                      Timestamp    FIT101    LIT101  MV101  P101  P102  \\\n",
       "0        28/12/2015 10:00:00 AM  2,427057  522,8467      2     2     1   \n",
       "1        28/12/2015 10:00:01 AM  2,446274   522,886      2     2     1   \n",
       "2        28/12/2015 10:00:02 AM  2,489191  522,8467      2     2     1   \n",
       "3        28/12/2015 10:00:03 AM   2,53435  522,9645      2     2     1   \n",
       "4        28/12/2015 10:00:04 AM   2,56926  523,4748      2     2     1   \n",
       "...                         ...       ...       ...    ...   ...   ...   \n",
       "449914      2/1/2016 2:59:55 PM  2,559972  519,5495      2     2     1   \n",
       "449915      2/1/2016 2:59:56 PM  2,549082  520,4131      2     2     1   \n",
       "449916      2/1/2016 2:59:57 PM  2,531467  520,6878      2     2     1   \n",
       "449917      2/1/2016 2:59:58 PM  2,521218  520,7271      2     2     1   \n",
       "449918      2/1/2016 2:59:59 PM  2,501681  521,1196      2     2     1   \n",
       "\n",
       "          AIT201    AIT202    AIT203    FIT201  ...  P501  P502    PIT501  \\\n",
       "0       262,0161  8,396437  328,6337  2,445391  ...     2     1  250,8652   \n",
       "1       262,0161  8,396437  328,6337  2,445391  ...     2     1  250,8652   \n",
       "2       262,0161  8,394514  328,6337  2,442316  ...     2     1  250,8812   \n",
       "3       262,0161  8,394514  328,6337  2,442316  ...     2     1  250,8812   \n",
       "4       262,0161  8,394514  328,6337  2,443085  ...     2     1  250,8812   \n",
       "...          ...       ...       ...       ...  ...   ...   ...       ...   \n",
       "449914  168,0979  8,638683  301,9226  2,459488  ...     2     1  251,1535   \n",
       "449915  168,0979  8,638683  301,9226  2,459488  ...     2     1  251,0734   \n",
       "449916  168,0979  8,638683  301,9226  2,460129  ...     2     1  251,0734   \n",
       "449917  168,0979  8,638683  301,9226  2,460129  ...     2     1  251,0734   \n",
       "449918  168,0979  8,638683  301,9226  2,458206  ...     2     1  251,0734   \n",
       "\n",
       "           PIT502    PIT503       FIT601  P601 P602 P603 Normal/Attack  \n",
       "0        1,649953  189,5988  0,000128152     1    1    1        Normal  \n",
       "1        1,649953  189,6789  0,000128152     1    1    1        Normal  \n",
       "2        1,649953  189,6789  0,000128152     1    1    1        Normal  \n",
       "3        1,649953  189,6148  0,000128152     1    1    1        Normal  \n",
       "4        1,649953  189,5027  0,000128152     1    1    1        Normal  \n",
       "...           ...       ...          ...   ...  ...  ...           ...  \n",
       "449914  0,8650241   189,022            0     1    1    1        Normal  \n",
       "449915  0,8650241  188,9259            0     1    1    1        Normal  \n",
       "449916  0,8650241  188,9259            0     1    1    1        Normal  \n",
       "449917  0,8650241  188,9259            0     1    1    1        Normal  \n",
       "449918  0,8650241  188,9259            0     1    1    1        Normal  \n",
       "\n",
       "[449919 rows x 53 columns]"
      ]
     },
     "execution_count": 3,
     "metadata": {},
     "output_type": "execute_result"
    }
   ],
   "source": [
    "attack = pd.read_csv(\"input/SWaT_Dataset_Attack_v0.csv\",sep=\";\")\n",
    "attack"
   ]
  },
  {
   "cell_type": "code",
   "execution_count": 5,
   "metadata": {},
   "outputs": [
    {
     "data": {
      "text/plain": [
       "12         28/12/2015 10:00:12 AM\n",
       "13         28/12/2015 10:00:13 AM\n",
       "14         28/12/2015 10:00:14 AM\n",
       "15         28/12/2015 10:00:15 AM\n",
       "16         28/12/2015 10:00:16 AM\n",
       "                   ...           \n",
       "449914        2/1/2016 2:59:55 PM\n",
       "449915        2/1/2016 2:59:56 PM\n",
       "449916        2/1/2016 2:59:57 PM\n",
       "449917        2/1/2016 2:59:58 PM\n",
       "449918        2/1/2016 2:59:59 PM\n",
       "Name: Timestamp, Length: 449907, dtype: object"
      ]
     },
     "execution_count": 5,
     "metadata": {},
     "output_type": "execute_result"
    }
   ],
   "source": [
    "window_size = 12\n",
    "attack_timestamp = attack['Timestamp']\n",
    "attack_timestamp[window_size:]"
   ]
  },
  {
   "cell_type": "code",
   "execution_count": 13,
   "metadata": {},
   "outputs": [
    {
     "data": {
      "text/html": [
       "<div>\n",
       "<style scoped>\n",
       "    .dataframe tbody tr th:only-of-type {\n",
       "        vertical-align: middle;\n",
       "    }\n",
       "\n",
       "    .dataframe tbody tr th {\n",
       "        vertical-align: top;\n",
       "    }\n",
       "\n",
       "    .dataframe thead th {\n",
       "        text-align: right;\n",
       "    }\n",
       "</style>\n",
       "<table border=\"1\" class=\"dataframe\">\n",
       "  <thead>\n",
       "    <tr style=\"text-align: right;\">\n",
       "      <th></th>\n",
       "      <th>y_pred</th>\n",
       "      <th>y_test</th>\n",
       "    </tr>\n",
       "    <tr>\n",
       "      <th>Timestamp</th>\n",
       "      <th></th>\n",
       "      <th></th>\n",
       "    </tr>\n",
       "  </thead>\n",
       "  <tbody>\n",
       "    <tr>\n",
       "      <th>28/12/2015 10:00:12 AM</th>\n",
       "      <td>0.009966</td>\n",
       "      <td>0.0</td>\n",
       "    </tr>\n",
       "    <tr>\n",
       "      <th>28/12/2015 10:00:13 AM</th>\n",
       "      <td>0.010022</td>\n",
       "      <td>0.0</td>\n",
       "    </tr>\n",
       "    <tr>\n",
       "      <th>28/12/2015 10:00:14 AM</th>\n",
       "      <td>0.010071</td>\n",
       "      <td>0.0</td>\n",
       "    </tr>\n",
       "    <tr>\n",
       "      <th>28/12/2015 10:00:15 AM</th>\n",
       "      <td>0.010106</td>\n",
       "      <td>0.0</td>\n",
       "    </tr>\n",
       "    <tr>\n",
       "      <th>28/12/2015 10:00:16 AM</th>\n",
       "      <td>0.010117</td>\n",
       "      <td>0.0</td>\n",
       "    </tr>\n",
       "    <tr>\n",
       "      <th>...</th>\n",
       "      <td>...</td>\n",
       "      <td>...</td>\n",
       "    </tr>\n",
       "    <tr>\n",
       "      <th>2/1/2016 2:59:55 PM</th>\n",
       "      <td>0.486704</td>\n",
       "      <td>0.0</td>\n",
       "    </tr>\n",
       "    <tr>\n",
       "      <th>2/1/2016 2:59:56 PM</th>\n",
       "      <td>0.486691</td>\n",
       "      <td>0.0</td>\n",
       "    </tr>\n",
       "    <tr>\n",
       "      <th>2/1/2016 2:59:57 PM</th>\n",
       "      <td>0.486670</td>\n",
       "      <td>0.0</td>\n",
       "    </tr>\n",
       "    <tr>\n",
       "      <th>2/1/2016 2:59:58 PM</th>\n",
       "      <td>0.486629</td>\n",
       "      <td>0.0</td>\n",
       "    </tr>\n",
       "    <tr>\n",
       "      <th>2/1/2016 2:59:59 PM</th>\n",
       "      <td>0.486580</td>\n",
       "      <td>0.0</td>\n",
       "    </tr>\n",
       "  </tbody>\n",
       "</table>\n",
       "<p>449907 rows × 2 columns</p>\n",
       "</div>"
      ],
      "text/plain": [
       "                           y_pred  y_test\n",
       "Timestamp                                \n",
       " 28/12/2015 10:00:12 AM  0.009966     0.0\n",
       " 28/12/2015 10:00:13 AM  0.010022     0.0\n",
       " 28/12/2015 10:00:14 AM  0.010071     0.0\n",
       " 28/12/2015 10:00:15 AM  0.010106     0.0\n",
       " 28/12/2015 10:00:16 AM  0.010117     0.0\n",
       "...                           ...     ...\n",
       " 2/1/2016 2:59:55 PM     0.486704     0.0\n",
       " 2/1/2016 2:59:56 PM     0.486691     0.0\n",
       " 2/1/2016 2:59:57 PM     0.486670     0.0\n",
       " 2/1/2016 2:59:58 PM     0.486629     0.0\n",
       " 2/1/2016 2:59:59 PM     0.486580     0.0\n",
       "\n",
       "[449907 rows x 2 columns]"
      ]
     },
     "execution_count": 13,
     "metadata": {},
     "output_type": "execute_result"
    }
   ],
   "source": [
    "df = pd.read_csv('results_swat.csv')\n",
    "df.index = attack_timestamp[window_size:]\n",
    "df.drop(['Unnamed: 0'],axis=1,inplace=True)\n",
    "df"
   ]
  },
  {
   "cell_type": "code",
   "execution_count": 14,
   "metadata": {},
   "outputs": [],
   "source": [
    "df.to_csv('results_swat.csv')"
   ]
  },
  {
   "cell_type": "code",
   "execution_count": 15,
   "metadata": {},
   "outputs": [
    {
     "data": {
      "text/html": [
       "<div>\n",
       "<style scoped>\n",
       "    .dataframe tbody tr th:only-of-type {\n",
       "        vertical-align: middle;\n",
       "    }\n",
       "\n",
       "    .dataframe tbody tr th {\n",
       "        vertical-align: top;\n",
       "    }\n",
       "\n",
       "    .dataframe thead th {\n",
       "        text-align: right;\n",
       "    }\n",
       "</style>\n",
       "<table border=\"1\" class=\"dataframe\">\n",
       "  <thead>\n",
       "    <tr style=\"text-align: right;\">\n",
       "      <th></th>\n",
       "      <th>y_pred</th>\n",
       "      <th>y_test</th>\n",
       "    </tr>\n",
       "    <tr>\n",
       "      <th>Timestamp</th>\n",
       "      <th></th>\n",
       "      <th></th>\n",
       "    </tr>\n",
       "  </thead>\n",
       "  <tbody>\n",
       "    <tr>\n",
       "      <th>28/12/2015 10:00:12 AM</th>\n",
       "      <td>0.009966</td>\n",
       "      <td>0.0</td>\n",
       "    </tr>\n",
       "    <tr>\n",
       "      <th>28/12/2015 10:00:13 AM</th>\n",
       "      <td>0.010022</td>\n",
       "      <td>0.0</td>\n",
       "    </tr>\n",
       "    <tr>\n",
       "      <th>28/12/2015 10:00:14 AM</th>\n",
       "      <td>0.010071</td>\n",
       "      <td>0.0</td>\n",
       "    </tr>\n",
       "    <tr>\n",
       "      <th>28/12/2015 10:00:15 AM</th>\n",
       "      <td>0.010106</td>\n",
       "      <td>0.0</td>\n",
       "    </tr>\n",
       "    <tr>\n",
       "      <th>28/12/2015 10:00:16 AM</th>\n",
       "      <td>0.010117</td>\n",
       "      <td>0.0</td>\n",
       "    </tr>\n",
       "    <tr>\n",
       "      <th>...</th>\n",
       "      <td>...</td>\n",
       "      <td>...</td>\n",
       "    </tr>\n",
       "    <tr>\n",
       "      <th>2/1/2016 2:59:55 PM</th>\n",
       "      <td>0.486704</td>\n",
       "      <td>0.0</td>\n",
       "    </tr>\n",
       "    <tr>\n",
       "      <th>2/1/2016 2:59:56 PM</th>\n",
       "      <td>0.486691</td>\n",
       "      <td>0.0</td>\n",
       "    </tr>\n",
       "    <tr>\n",
       "      <th>2/1/2016 2:59:57 PM</th>\n",
       "      <td>0.486670</td>\n",
       "      <td>0.0</td>\n",
       "    </tr>\n",
       "    <tr>\n",
       "      <th>2/1/2016 2:59:58 PM</th>\n",
       "      <td>0.486629</td>\n",
       "      <td>0.0</td>\n",
       "    </tr>\n",
       "    <tr>\n",
       "      <th>2/1/2016 2:59:59 PM</th>\n",
       "      <td>0.486580</td>\n",
       "      <td>0.0</td>\n",
       "    </tr>\n",
       "  </tbody>\n",
       "</table>\n",
       "<p>449907 rows × 2 columns</p>\n",
       "</div>"
      ],
      "text/plain": [
       "                           y_pred  y_test\n",
       "Timestamp                                \n",
       " 28/12/2015 10:00:12 AM  0.009966     0.0\n",
       " 28/12/2015 10:00:13 AM  0.010022     0.0\n",
       " 28/12/2015 10:00:14 AM  0.010071     0.0\n",
       " 28/12/2015 10:00:15 AM  0.010106     0.0\n",
       " 28/12/2015 10:00:16 AM  0.010117     0.0\n",
       "...                           ...     ...\n",
       " 2/1/2016 2:59:55 PM     0.486704     0.0\n",
       " 2/1/2016 2:59:56 PM     0.486691     0.0\n",
       " 2/1/2016 2:59:57 PM     0.486670     0.0\n",
       " 2/1/2016 2:59:58 PM     0.486629     0.0\n",
       " 2/1/2016 2:59:59 PM     0.486580     0.0\n",
       "\n",
       "[449907 rows x 2 columns]"
      ]
     },
     "execution_count": 15,
     "metadata": {},
     "output_type": "execute_result"
    }
   ],
   "source": [
    "df"
   ]
  },
  {
   "cell_type": "code",
   "execution_count": 18,
   "metadata": {},
   "outputs": [
    {
     "data": {
      "text/html": [
       "<div>\n",
       "<style scoped>\n",
       "    .dataframe tbody tr th:only-of-type {\n",
       "        vertical-align: middle;\n",
       "    }\n",
       "\n",
       "    .dataframe tbody tr th {\n",
       "        vertical-align: top;\n",
       "    }\n",
       "\n",
       "    .dataframe thead th {\n",
       "        text-align: right;\n",
       "    }\n",
       "</style>\n",
       "<table border=\"1\" class=\"dataframe\">\n",
       "  <thead>\n",
       "    <tr style=\"text-align: right;\">\n",
       "      <th></th>\n",
       "      <th>y_pred</th>\n",
       "      <th>y_test</th>\n",
       "    </tr>\n",
       "    <tr>\n",
       "      <th>Timestamp</th>\n",
       "      <th></th>\n",
       "      <th></th>\n",
       "    </tr>\n",
       "  </thead>\n",
       "  <tbody>\n",
       "    <tr>\n",
       "      <th>2015-12-28 10:00:12</th>\n",
       "      <td>0.009966</td>\n",
       "      <td>0.0</td>\n",
       "    </tr>\n",
       "    <tr>\n",
       "      <th>2015-12-28 10:00:13</th>\n",
       "      <td>0.010022</td>\n",
       "      <td>0.0</td>\n",
       "    </tr>\n",
       "    <tr>\n",
       "      <th>2015-12-28 10:00:14</th>\n",
       "      <td>0.010071</td>\n",
       "      <td>0.0</td>\n",
       "    </tr>\n",
       "    <tr>\n",
       "      <th>2015-12-28 10:00:15</th>\n",
       "      <td>0.010106</td>\n",
       "      <td>0.0</td>\n",
       "    </tr>\n",
       "    <tr>\n",
       "      <th>2015-12-28 10:00:16</th>\n",
       "      <td>0.010117</td>\n",
       "      <td>0.0</td>\n",
       "    </tr>\n",
       "    <tr>\n",
       "      <th>...</th>\n",
       "      <td>...</td>\n",
       "      <td>...</td>\n",
       "    </tr>\n",
       "    <tr>\n",
       "      <th>2016-02-01 14:59:55</th>\n",
       "      <td>0.486704</td>\n",
       "      <td>0.0</td>\n",
       "    </tr>\n",
       "    <tr>\n",
       "      <th>2016-02-01 14:59:56</th>\n",
       "      <td>0.486691</td>\n",
       "      <td>0.0</td>\n",
       "    </tr>\n",
       "    <tr>\n",
       "      <th>2016-02-01 14:59:57</th>\n",
       "      <td>0.486670</td>\n",
       "      <td>0.0</td>\n",
       "    </tr>\n",
       "    <tr>\n",
       "      <th>2016-02-01 14:59:58</th>\n",
       "      <td>0.486629</td>\n",
       "      <td>0.0</td>\n",
       "    </tr>\n",
       "    <tr>\n",
       "      <th>2016-02-01 14:59:59</th>\n",
       "      <td>0.486580</td>\n",
       "      <td>0.0</td>\n",
       "    </tr>\n",
       "  </tbody>\n",
       "</table>\n",
       "<p>449907 rows × 2 columns</p>\n",
       "</div>"
      ],
      "text/plain": [
       "                       y_pred  y_test\n",
       "Timestamp                            \n",
       "2015-12-28 10:00:12  0.009966     0.0\n",
       "2015-12-28 10:00:13  0.010022     0.0\n",
       "2015-12-28 10:00:14  0.010071     0.0\n",
       "2015-12-28 10:00:15  0.010106     0.0\n",
       "2015-12-28 10:00:16  0.010117     0.0\n",
       "...                       ...     ...\n",
       "2016-02-01 14:59:55  0.486704     0.0\n",
       "2016-02-01 14:59:56  0.486691     0.0\n",
       "2016-02-01 14:59:57  0.486670     0.0\n",
       "2016-02-01 14:59:58  0.486629     0.0\n",
       "2016-02-01 14:59:59  0.486580     0.0\n",
       "\n",
       "[449907 rows x 2 columns]"
      ]
     },
     "execution_count": 18,
     "metadata": {},
     "output_type": "execute_result"
    }
   ],
   "source": [
    "df.index = pd.to_datetime(df.index)\n",
    "df"
   ]
  },
  {
   "cell_type": "code",
   "execution_count": 19,
   "metadata": {},
   "outputs": [
    {
     "data": {
      "text/html": [
       "<div>\n",
       "<style scoped>\n",
       "    .dataframe tbody tr th:only-of-type {\n",
       "        vertical-align: middle;\n",
       "    }\n",
       "\n",
       "    .dataframe tbody tr th {\n",
       "        vertical-align: top;\n",
       "    }\n",
       "\n",
       "    .dataframe thead th {\n",
       "        text-align: right;\n",
       "    }\n",
       "</style>\n",
       "<table border=\"1\" class=\"dataframe\">\n",
       "  <thead>\n",
       "    <tr style=\"text-align: right;\">\n",
       "      <th></th>\n",
       "      <th>y_pred</th>\n",
       "      <th>y_test</th>\n",
       "    </tr>\n",
       "    <tr>\n",
       "      <th>Timestamp</th>\n",
       "      <th></th>\n",
       "      <th></th>\n",
       "    </tr>\n",
       "  </thead>\n",
       "  <tbody>\n",
       "    <tr>\n",
       "      <th>2015-12-28 10:00:12</th>\n",
       "      <td>0.009966</td>\n",
       "      <td>0.0</td>\n",
       "    </tr>\n",
       "    <tr>\n",
       "      <th>2015-12-28 10:00:13</th>\n",
       "      <td>0.010022</td>\n",
       "      <td>0.0</td>\n",
       "    </tr>\n",
       "    <tr>\n",
       "      <th>2015-12-28 10:00:14</th>\n",
       "      <td>0.010071</td>\n",
       "      <td>0.0</td>\n",
       "    </tr>\n",
       "    <tr>\n",
       "      <th>2015-12-28 10:00:15</th>\n",
       "      <td>0.010106</td>\n",
       "      <td>0.0</td>\n",
       "    </tr>\n",
       "    <tr>\n",
       "      <th>2015-12-28 10:00:16</th>\n",
       "      <td>0.010117</td>\n",
       "      <td>0.0</td>\n",
       "    </tr>\n",
       "    <tr>\n",
       "      <th>...</th>\n",
       "      <td>...</td>\n",
       "      <td>...</td>\n",
       "    </tr>\n",
       "    <tr>\n",
       "      <th>2016-02-01 14:59:55</th>\n",
       "      <td>0.486704</td>\n",
       "      <td>0.0</td>\n",
       "    </tr>\n",
       "    <tr>\n",
       "      <th>2016-02-01 14:59:56</th>\n",
       "      <td>0.486691</td>\n",
       "      <td>0.0</td>\n",
       "    </tr>\n",
       "    <tr>\n",
       "      <th>2016-02-01 14:59:57</th>\n",
       "      <td>0.486670</td>\n",
       "      <td>0.0</td>\n",
       "    </tr>\n",
       "    <tr>\n",
       "      <th>2016-02-01 14:59:58</th>\n",
       "      <td>0.486629</td>\n",
       "      <td>0.0</td>\n",
       "    </tr>\n",
       "    <tr>\n",
       "      <th>2016-02-01 14:59:59</th>\n",
       "      <td>0.486580</td>\n",
       "      <td>0.0</td>\n",
       "    </tr>\n",
       "  </tbody>\n",
       "</table>\n",
       "<p>449907 rows × 2 columns</p>\n",
       "</div>"
      ],
      "text/plain": [
       "                       y_pred  y_test\n",
       "Timestamp                            \n",
       "2015-12-28 10:00:12  0.009966     0.0\n",
       "2015-12-28 10:00:13  0.010022     0.0\n",
       "2015-12-28 10:00:14  0.010071     0.0\n",
       "2015-12-28 10:00:15  0.010106     0.0\n",
       "2015-12-28 10:00:16  0.010117     0.0\n",
       "...                       ...     ...\n",
       "2016-02-01 14:59:55  0.486704     0.0\n",
       "2016-02-01 14:59:56  0.486691     0.0\n",
       "2016-02-01 14:59:57  0.486670     0.0\n",
       "2016-02-01 14:59:58  0.486629     0.0\n",
       "2016-02-01 14:59:59  0.486580     0.0\n",
       "\n",
       "[449907 rows x 2 columns]"
      ]
     },
     "execution_count": 19,
     "metadata": {},
     "output_type": "execute_result"
    }
   ],
   "source": [
    "df"
   ]
  },
  {
   "cell_type": "code",
   "execution_count": 20,
   "metadata": {},
   "outputs": [
    {
     "data": {
      "text/html": [
       "<div>\n",
       "<style scoped>\n",
       "    .dataframe tbody tr th:only-of-type {\n",
       "        vertical-align: middle;\n",
       "    }\n",
       "\n",
       "    .dataframe tbody tr th {\n",
       "        vertical-align: top;\n",
       "    }\n",
       "\n",
       "    .dataframe thead th {\n",
       "        text-align: right;\n",
       "    }\n",
       "</style>\n",
       "<table border=\"1\" class=\"dataframe\">\n",
       "  <thead>\n",
       "    <tr style=\"text-align: right;\">\n",
       "      <th></th>\n",
       "      <th>y_pred</th>\n",
       "      <th>y_test</th>\n",
       "    </tr>\n",
       "    <tr>\n",
       "      <th>Timestamp</th>\n",
       "      <th></th>\n",
       "      <th></th>\n",
       "    </tr>\n",
       "  </thead>\n",
       "  <tbody>\n",
       "    <tr>\n",
       "      <th>2015-12-31 02:22:49</th>\n",
       "      <td>0.482859</td>\n",
       "      <td>1.0</td>\n",
       "    </tr>\n",
       "    <tr>\n",
       "      <th>2015-12-31 02:22:50</th>\n",
       "      <td>0.492416</td>\n",
       "      <td>1.0</td>\n",
       "    </tr>\n",
       "    <tr>\n",
       "      <th>2015-12-31 02:22:51</th>\n",
       "      <td>0.501997</td>\n",
       "      <td>1.0</td>\n",
       "    </tr>\n",
       "    <tr>\n",
       "      <th>2015-12-31 02:22:52</th>\n",
       "      <td>0.511386</td>\n",
       "      <td>1.0</td>\n",
       "    </tr>\n",
       "    <tr>\n",
       "      <th>2015-12-31 02:22:53</th>\n",
       "      <td>0.520323</td>\n",
       "      <td>1.0</td>\n",
       "    </tr>\n",
       "    <tr>\n",
       "      <th>...</th>\n",
       "      <td>...</td>\n",
       "      <td>...</td>\n",
       "    </tr>\n",
       "    <tr>\n",
       "      <th>2016-02-01 14:59:55</th>\n",
       "      <td>0.486704</td>\n",
       "      <td>0.0</td>\n",
       "    </tr>\n",
       "    <tr>\n",
       "      <th>2016-02-01 14:59:56</th>\n",
       "      <td>0.486691</td>\n",
       "      <td>0.0</td>\n",
       "    </tr>\n",
       "    <tr>\n",
       "      <th>2016-02-01 14:59:57</th>\n",
       "      <td>0.486670</td>\n",
       "      <td>0.0</td>\n",
       "    </tr>\n",
       "    <tr>\n",
       "      <th>2016-02-01 14:59:58</th>\n",
       "      <td>0.486629</td>\n",
       "      <td>0.0</td>\n",
       "    </tr>\n",
       "    <tr>\n",
       "      <th>2016-02-01 14:59:59</th>\n",
       "      <td>0.486580</td>\n",
       "      <td>0.0</td>\n",
       "    </tr>\n",
       "  </tbody>\n",
       "</table>\n",
       "<p>44990 rows × 2 columns</p>\n",
       "</div>"
      ],
      "text/plain": [
       "                       y_pred  y_test\n",
       "Timestamp                            \n",
       "2015-12-31 02:22:49  0.482859     1.0\n",
       "2015-12-31 02:22:50  0.492416     1.0\n",
       "2015-12-31 02:22:51  0.501997     1.0\n",
       "2015-12-31 02:22:52  0.511386     1.0\n",
       "2015-12-31 02:22:53  0.520323     1.0\n",
       "...                       ...     ...\n",
       "2016-02-01 14:59:55  0.486704     0.0\n",
       "2016-02-01 14:59:56  0.486691     0.0\n",
       "2016-02-01 14:59:57  0.486670     0.0\n",
       "2016-02-01 14:59:58  0.486629     0.0\n",
       "2016-02-01 14:59:59  0.486580     0.0\n",
       "\n",
       "[44990 rows x 2 columns]"
      ]
     },
     "execution_count": 20,
     "metadata": {},
     "output_type": "execute_result"
    }
   ],
   "source": [
    "filt = df['y_pred']>0.47617567\n",
    "df[filt]"
   ]
  },
  {
   "cell_type": "code",
   "execution_count": 21,
   "metadata": {},
   "outputs": [
    {
     "data": {
      "text/plain": [
       "<matplotlib.axes._subplots.AxesSubplot at 0x7fc815090a90>"
      ]
     },
     "execution_count": 21,
     "metadata": {},
     "output_type": "execute_result"
    },
    {
     "data": {
      "image/png": "[encoded data removed]",
      "text/plain": [
       "<Figure size 432x288 with 1 Axes>"
      ]
     },
     "metadata": {
      "needs_background": "light"
     },
     "output_type": "display_data"
    }
   ],
   "source": [
    "df[filt]['y_pred'].plot()"
   ]
  },
  {
   "cell_type": "code",
   "execution_count": 22,
   "metadata": {},
   "outputs": [
    {
     "data": {
      "text/plain": [
       "DatetimeIndex(['2015-12-31 02:22:49', '2015-12-31 02:22:50',\n",
       "               '2015-12-31 02:22:51', '2015-12-31 02:22:52',\n",
       "               '2015-12-31 02:22:53', '2015-12-31 02:22:54',\n",
       "               '2015-12-31 02:22:55', '2015-12-31 02:22:56',\n",
       "               '2015-12-31 02:22:57', '2015-12-31 02:22:58',\n",
       "               ...\n",
       "               '2016-02-01 14:59:50', '2016-02-01 14:59:51',\n",
       "               '2016-02-01 14:59:52', '2016-02-01 14:59:53',\n",
       "               '2016-02-01 14:59:54', '2016-02-01 14:59:55',\n",
       "               '2016-02-01 14:59:56', '2016-02-01 14:59:57',\n",
       "               '2016-02-01 14:59:58', '2016-02-01 14:59:59'],\n",
       "              dtype='datetime64[ns]', name='Timestamp', length=44990, freq=None)"
      ]
     },
     "execution_count": 22,
     "metadata": {},
     "output_type": "execute_result"
    }
   ],
   "source": [
    "df[filt].index"
   ]
  },
  {
   "cell_type": "code",
   "execution_count": 37,
   "metadata": {},
   "outputs": [
    {
     "data": {
      "text/plain": [
       "True"
      ]
     },
     "execution_count": 37,
     "metadata": {},
     "output_type": "execute_result"
    }
   ],
   "source": [
    "(df[filt].index[1]-df[filt].index[0]).seconds ==1"
   ]
  },
  {
   "cell_type": "code",
   "execution_count": 48,
   "metadata": {},
   "outputs": [
    {
     "data": {
      "text/plain": [
       "[[Timestamp('2015-12-31 02:22:49'), 0],\n",
       " [Timestamp('2015-12-31 11:16:45'), 32036],\n",
       " [Timestamp('2015-12-31 11:17:06'), 7],\n",
       " [Timestamp('2015-12-31 18:09:32'), 26],\n",
       " [Timestamp('2015-12-31 21:29:50'), 13],\n",
       " [Timestamp('2016-01-01 00:23:51'), 15],\n",
       " [Timestamp('2016-01-01 01:35:52'), 16],\n",
       " [Timestamp('2016-01-01 02:46:53'), 17],\n",
       " [Timestamp('2016-01-01 03:58:52'), 13],\n",
       " [Timestamp('2016-01-01 05:11:50'), 8],\n",
       " [Timestamp('2016-01-01 06:56:01'), 32],\n",
       " [Timestamp('2016-01-01 12:00:02'), 30],\n",
       " [Timestamp('2016-01-01 13:27:04'), 34],\n",
       " [Timestamp('2016-01-01 14:22:56'), 16],\n",
       " [Timestamp('2016-01-01 14:55:05'), 35],\n",
       " [Timestamp('2016-01-01 15:50:55'), 13],\n",
       " [Timestamp('2016-01-01 16:23:07'), 39],\n",
       " [Timestamp('2016-01-01 17:18:55'), 11],\n",
       " [Timestamp('2016-01-01 17:50:57'), 16],\n",
       " [Timestamp('2016-01-01 18:47:58'), 17],\n",
       " [Timestamp('2016-01-01 19:20:10'), 43],\n",
       " [Timestamp('2016-01-01 20:15:02'), 26],\n",
       " [Timestamp('2016-01-01 20:48:01'), 99],\n",
       " [Timestamp('2016-01-01 21:43:02'), 25],\n",
       " [Timestamp('2016-01-01 22:15:14'), 48],\n",
       " [Timestamp('2016-01-01 22:15:50'), 20],\n",
       " [Timestamp('2016-01-01 22:39:45'), 11],\n",
       " [Timestamp('2016-01-01 23:12:08'), 37],\n",
       " [Timestamp('2016-01-01 23:45:07'), 109],\n",
       " [Timestamp('2016-02-01 00:07:10'), 9],\n",
       " [Timestamp('2016-02-01 00:07:32'), 1],\n",
       " [Timestamp('2016-02-01 00:09:13'), 11],\n",
       " [Timestamp('2016-02-01 00:40:05'), 29],\n",
       " [Timestamp('2016-02-01 01:13:07'), 106],\n",
       " [Timestamp('2016-02-01 01:31:07'), 230],\n",
       " [Timestamp('2016-02-01 01:33:59'), 7],\n",
       " [Timestamp('2016-02-01 01:37:15'), 1],\n",
       " [Timestamp('2016-02-01 01:37:33'), 12],\n",
       " [Timestamp('2016-02-01 02:09:07'), 33],\n",
       " [Timestamp('2016-02-01 02:42:12'), 116],\n",
       " [Timestamp('2016-02-01 02:42:44'), 5],\n",
       " [Timestamp('2016-02-01 03:05:25'), 216],\n",
       " [Timestamp('2016-02-01 03:36:09'), 35],\n",
       " [Timestamp('2016-02-01 04:09:10'), 111],\n",
       " [Timestamp('2016-02-01 04:34:26'), 632],\n",
       " [Timestamp('2016-02-01 05:05:12'), 40],\n",
       " [Timestamp('2016-02-01 05:38:52'), 159],\n",
       " [Timestamp('2016-02-01 05:55:52'), 11],\n",
       " [Timestamp('2016-02-01 06:03:20'), 276],\n",
       " [Timestamp('2016-02-01 06:11:04'), 114],\n",
       " [Timestamp('2016-02-01 06:35:10'), 111],\n",
       " [Timestamp('2016-02-01 07:07:52'), 159],\n",
       " [Timestamp('2016-02-01 07:24:43'), 6],\n",
       " [Timestamp('2016-02-01 07:32:02'), 270],\n",
       " [Timestamp('2016-02-01 07:38:24'), 13],\n",
       " [Timestamp('2016-02-01 07:39:45'), 75],\n",
       " [Timestamp('2016-02-01 08:02:19'), 51],\n",
       " [Timestamp('2016-02-01 08:03:02'), 9],\n",
       " [Timestamp('2016-02-01 08:37:14'), 315],\n",
       " [Timestamp('2016-02-01 08:52:52'), 228],\n",
       " [Timestamp('2016-02-01 09:07:57'), 745],\n",
       " [Timestamp('2016-02-01 09:08:17'), 10],\n",
       " [Timestamp('2016-02-01 09:18:52'), 8],\n",
       " [Timestamp('2016-02-01 09:32:02'), 93],\n",
       " [Timestamp('2016-02-01 10:05:57'), 362],\n",
       " [Timestamp('2016-02-01 10:09:18'), 3],\n",
       " [Timestamp('2016-02-01 10:10:50'), 64],\n",
       " [Timestamp('2016-02-01 10:29:38'), 646],\n",
       " [Timestamp('2016-02-01 10:45:10'), 107],\n",
       " [Timestamp('2016-02-01 11:44:11'), 1993],\n",
       " [Timestamp('2016-02-01 11:58:45'), 858],\n",
       " [Timestamp('2016-02-01 12:07:13'), 113],\n",
       " [Timestamp('2016-02-01 12:49:52'), 1131],\n",
       " [Timestamp('2016-02-01 13:00:55'), 226],\n",
       " [Timestamp('2016-02-01 13:13:12'), 109],\n",
       " [Timestamp('2016-02-01 13:51:50'), 602],\n",
       " [Timestamp('2016-02-01 14:10:40'), 1041],\n",
       " [Timestamp('2016-02-01 14:42:31'), 288]]"
      ]
     },
     "execution_count": 48,
     "metadata": {},
     "output_type": "execute_result"
    }
   ],
   "source": [
    "anomaly_start = []\n",
    "start = df[filt].index[0]\n",
    "count = 0\n",
    "for time in df[filt].index:\n",
    "    if (time - start).seconds == 1:\n",
    "        start = time\n",
    "        count += 1 \n",
    "    else:\n",
    "        anomaly_start.append([start,count])\n",
    "        count = 0\n",
    "        start = time\n",
    "anomaly_start     "
   ]
  },
  {
   "cell_type": "code",
   "execution_count": 49,
   "metadata": {},
   "outputs": [
    {
     "data": {
      "text/plain": [
       "310"
      ]
     },
     "execution_count": 49,
     "metadata": {},
     "output_type": "execute_result"
    }
   ],
   "source": [
    "count"
   ]
  },
  {
   "cell_type": "code",
   "execution_count": null,
   "metadata": {},
   "outputs": [],
   "source": []
  }
 ],
 "metadata": {
  "accelerator": "GPU",
  "colab": {
   "name": "USAD_test.ipynb",
   "provenance": [],
   "toc_visible": true
  },
  "kernelspec": {
   "display_name": "Python 3 (ipykernel)",
   "language": "python",
   "name": "python3"
  },
  "language_info": {
   "codemirror_mode": {
    "name": "ipython",
    "version": 3
   },
   "file_extension": ".py",
   "mimetype": "text/x-python",
   "name": "python",
   "nbconvert_exporter": "python",
   "pygments_lexer": "ipython3",
   "version": "3.7.6"
  },
  "vscode": {
   "interpreter": {
    "hash": "dfdaddf1ba9b6c6e2043e155f92b2b8f5735f0351a3294800b2afd59282eda18"
   }
  }
 },
 "nbformat": 4,
 "nbformat_minor": 1
}
